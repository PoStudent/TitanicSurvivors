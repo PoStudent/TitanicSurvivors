{
 "cells": [
  {
   "cell_type": "markdown",
   "metadata": {},
   "source": [
    "<h1>Appendix B</h1>\n",
    "<h2>ENSF 611 Winter 2020 - Final Project - Kaggle Competition</h2>\n",
    "<h2><a href=\"https://www.kaggle.com/c/titanic/overview\">Titanic: Machine Learning from Disaster</a></h2>\n",
    "<h3>Kush Bhatt - Michael Lee - Matthew Vanderwey</h3>"
   ]
  },
  {
   "cell_type": "markdown",
   "metadata": {},
   "source": [
    "# Introduction\n",
    "<img a src=\"https://titanicfacts.net/wp-content/uploads/2018/06/titanic-boarding-pass.gif\" data-src=\"https://titanicfacts.net/wp-content/uploads/2018/06/titanic-boarding-pass.gif\" alt=\"Titanic boarding pass\" width=\"250\" height=\"200\" hspace=\"10\" vspace=\"10\" align=\"left\">The RMS Titanic was marketed by its owner's, the White Star Line, as unsinkable.  However, at approximately 20 minutes before midnight on 14 April 1912 the ship struck an iceberg that would result in its sinking just a few hours later. More than 1,500 people perished in what was the greatest maritime disaster to date.  This represented almost 2 out of every 3 people on board [1].</a>\n",
    "<p>The goal of this machine learning competition, hosted by Kaggle, is to see if we can use what little information is known about each passenger to predict their survival.  For this competition Kaggle provides a training set of 891 passengers and a test set of 418 passengers, roughly a 32% test-split.  The data includes limited information about each passenger like their name, age, gender, passenger class, etc.  \n",
    "<p>Before setting up our machine learning model, we will first explore the available data and see what patterns of survival (if any) can be established.  This process is known as Exploratory Data Analysis, or EDA, and it will help us review the overall quality of the data.  Including which data points are missing and which features may, or may not, be useful or not in our modeling. We will then investigate how to impute any missing values in the features we want to use, re-factor the training data, and even engineer some new features to make it easier for our models to predict survival.\n",
    "<P>A cursory review of the work done by past competitors shows promise in the use of Extreme Gradient Boosting (XGBoost) [2] and ensemble [3] based models.  Therefore we will look at the application of both forms of modelling in our investigation.  We will also look at the application of the Receiver Operator Characteristic (ROC) metric [4] and precision recall curves in evaluating the performance of our models."
   ]
  },
  {
   "cell_type": "markdown",
   "metadata": {},
   "source": [
    "# Exploratory Data Analysis"
   ]
  },
  {
   "cell_type": "markdown",
   "metadata": {},
   "source": [
    "## Importing Standard Libraries\n",
    "The primary libraries required for our analysis include: numpy, pandas matplotlib and seaborn."
   ]
  },
  {
   "cell_type": "code",
   "execution_count": 1,
   "metadata": {
    "_cell_guid": "b1076dfc-b9ad-4769-8c92-a6c4dae69d19",
    "_uuid": "8f2839f25d086af736a60e9eeb907d3b93b6e0e5"
   },
   "outputs": [],
   "source": [
    "import numpy as np \n",
    "import pandas as pd\n",
    "import matplotlib.pyplot as plt\n",
    "import seaborn as sns\n",
    "%matplotlib inline"
   ]
  },
  {
   "cell_type": "markdown",
   "metadata": {},
   "source": [
    "## Import Raw Data\n",
    "Our analysis all begins with importing the data as provided by Kaggle.  This includes a training data set (which includes whether a passenger survived or not, 1 or 0) and a testing data set, which does not included the 'Survived' label.  Also included in the data sets from Kaggle is an example of how our competition submissions should be formatted.   "
   ]
  },
  {
   "cell_type": "code",
   "execution_count": 2,
   "metadata": {
    "_cell_guid": "79c7e3d0-c299-4dcb-8224-4455121ee9b0",
    "_uuid": "d629ff2d2480ee46fbb7e2d37f6b5fab8052498a"
   },
   "outputs": [],
   "source": [
    "train = pd.read_csv(\"train.csv\")\n",
    "test = pd.read_csv(\"test.csv\")\n",
    "example_submission = pd.read_csv(\"gender_submission.csv\")"
   ]
  },
  {
   "cell_type": "markdown",
   "metadata": {},
   "source": [
    "We want to analyze the passengers as one population, so will build a \"master\" DataFrame that includes all the passengers"
   ]
  },
  {
   "cell_type": "code",
   "execution_count": 3,
   "metadata": {},
   "outputs": [],
   "source": [
    "master = pd.concat([train, test], axis=0).reset_index(drop=True)"
   ]
  },
  {
   "cell_type": "markdown",
   "metadata": {},
   "source": [
    "The features (Column) of our master DataFrame and their data types (Dtype) include:"
   ]
  },
  {
   "cell_type": "code",
   "execution_count": 4,
   "metadata": {},
   "outputs": [
    {
     "name": "stdout",
     "output_type": "stream",
     "text": [
      "<class 'pandas.core.frame.DataFrame'>\n",
      "RangeIndex: 1309 entries, 0 to 1308\n",
      "Data columns (total 12 columns):\n",
      " #   Column       Non-Null Count  Dtype  \n",
      "---  ------       --------------  -----  \n",
      " 0   PassengerId  1309 non-null   int64  \n",
      " 1   Survived     891 non-null    float64\n",
      " 2   Pclass       1309 non-null   int64  \n",
      " 3   Name         1309 non-null   object \n",
      " 4   Sex          1309 non-null   object \n",
      " 5   Age          1046 non-null   float64\n",
      " 6   SibSp        1309 non-null   int64  \n",
      " 7   Parch        1309 non-null   int64  \n",
      " 8   Ticket       1309 non-null   object \n",
      " 9   Fare         1308 non-null   float64\n",
      " 10  Cabin        295 non-null    object \n",
      " 11  Embarked     1307 non-null   object \n",
      "dtypes: float64(3), int64(4), object(5)\n",
      "memory usage: 122.8+ KB\n"
     ]
    }
   ],
   "source": [
    "master.info()"
   ]
  },
  {
   "cell_type": "markdown",
   "metadata": {},
   "source": [
    "## Exploring the Provided Features\n",
    "Before we engage in any feature engineering or machine learning we need to explore both the patterns of survival and its correlations with the provided features.  We will start with looking at the split between those who survived and those who did not."
   ]
  },
  {
   "cell_type": "code",
   "execution_count": 5,
   "metadata": {},
   "outputs": [],
   "source": [
    "# Not included in final report\n",
    "# plt.figure(dpi=100)\n",
    "# sns.set_style('whitegrid')\n",
    "# sns.countplot(x='Survived',data=master)\n",
    "# plt.title('Figure 2.1 - Surivival of the Training Passengers')\n",
    "# #plt.savefig(\"Figure 2.1.png\")"
   ]
  },
  {
   "cell_type": "code",
   "execution_count": 6,
   "metadata": {},
   "outputs": [
    {
     "name": "stdout",
     "output_type": "stream",
     "text": [
      "The percentage of passgengers in the training data who survived is: 38.4%\n"
     ]
    }
   ],
   "source": [
    "survival_rate = sum(train['Survived'] / len(train)) * 100\n",
    "print(f\"The percentage of passgengers in the training data who survived is: {survival_rate:0.1f}%\")"
   ]
  },
  {
   "cell_type": "markdown",
   "metadata": {},
   "source": [
    "It appears that tragically a substantial majority of the passengers did not survive.  This agrees with the historical data which tells us that only 31.6% of the passengers and crew survived [5]."
   ]
  },
  {
   "cell_type": "markdown",
   "metadata": {},
   "source": [
    "One of the root causes that made this such a tragedy was that fact that there were simply not enough lifeboats on the ship for everyone to escape in.  At the time the number of lifeboats that a ship was required to carry was based on its gross tonnage and not the number of people it carried.  Thus, the Titanic was only legally required to have 20 lifeboats when it needed at least 48.  Even more tragically it is estimated that the ship could have accommodated up to 64 lifeboats, but that this was cut back for esthetic and cost reasons [6].  The crew, knowing full well that there were not enough lifeboats, would have prioritized loading women and children first.  So, for our analysis we will create a new feature called \"Title\" which will break the population into three categories, \"woman\" which will include both women and girls, \"boy\" for underage males and \"man\" for adult males."
   ]
  },
  {
   "cell_type": "code",
   "execution_count": 7,
   "metadata": {},
   "outputs": [],
   "source": [
    "master['Title'] = master.apply(lambda x: 'boy' if 'Master' in x['Name'] else 'man', axis=1)\n",
    "master['Title'] = master.apply(lambda x: 'woman' if 'female' in x['Sex'] else x['Title'], axis=1)"
   ]
  },
  {
   "cell_type": "markdown",
   "metadata": {},
   "source": [
    "Figure 1 below shows the survival rates for these three groups."
   ]
  },
  {
   "cell_type": "code",
   "execution_count": 8,
   "metadata": {},
   "outputs": [
    {
     "data": {
      "text/plain": [
       "Text(0.5, 1.0, 'Figure 1 - Survival Rate by Title')"
      ]
     },
     "execution_count": 8,
     "metadata": {},
     "output_type": "execute_result"
    },
    {
     "data": {
      "image/png": "[encoded data removed]",
      "text/plain": [
       "<Figure size 576x360 with 1 Axes>"
      ]
     },
     "metadata": {
      "needs_background": "light"
     },
     "output_type": "display_data"
    }
   ],
   "source": [
    "df_plot = master.groupby(['Survived', 'Title']).size().reset_index().pivot(columns='Survived', index='Title', values=0)\n",
    "df_plot.plot(kind='bar', stacked=True, figsize=(8,5))\n",
    "plt.title('Figure 1 - Survival Rate by Title')\n",
    "# plt.savefig(\"Figure 1.png\")"
   ]
  },
  {
   "cell_type": "code",
   "execution_count": 9,
   "metadata": {},
   "outputs": [
    {
     "name": "stdout",
     "output_type": "stream",
     "text": [
      "The percentage of women and boys in the training data who survived: 72.3%\n"
     ]
    }
   ],
   "source": [
    "woman_boy_survival_rate = (len(master.query('PassengerId<=891 and (Title == \"woman\" or Title == \"boy\") and Survived == 1')) \n",
    " / len(master.query('PassengerId<=891 and (Title == \"woman\" or Title == \"boy\")'))) * 100\n",
    "woman_boy_survival_rate\n",
    "print(f\"The percentage of women and boys in the training data who survived: {woman_boy_survival_rate:0.1f}%\")"
   ]
  },
  {
   "cell_type": "code",
   "execution_count": 10,
   "metadata": {},
   "outputs": [
    {
     "name": "stdout",
     "output_type": "stream",
     "text": [
      "The percentage of men in the training data who survived: 16.0%\n"
     ]
    }
   ],
   "source": [
    "man_survival_rate = (len(master.query('PassengerId<=891 and Title == \"man\" and Survived == 1')) \n",
    " / len(master.query('PassengerId<=891 and Title == \"man\"'))) * 100\n",
    "man_survival_rate\n",
    "print(f\"The percentage of men in the training data who survived: {man_survival_rate:0.1f}%\")"
   ]
  },
  {
   "cell_type": "markdown",
   "metadata": {},
   "source": [
    "Looking at the above Figure 1 we can see that indeed most women and children surived, while the vast majority of men did not."
   ]
  },
  {
   "cell_type": "markdown",
   "metadata": {},
   "source": [
    "While 1912 may have been a chivalrous time, it was not an egalitarian one.  Even more so than it is today, back then a person's importance was measured by their wealth and and social standing. This leads us to the hypothesis that First Class passengers were more likely to survive than Second Class, and Second Class passengers were more likely to survive than Third Class.  We can easly test this hypothesis with a quick graph, shown in Figure 2 below:       "
   ]
  },
  {
   "cell_type": "code",
   "execution_count": 11,
   "metadata": {},
   "outputs": [
    {
     "data": {
      "text/plain": [
       "Text(0.5, 1.0, 'Figure 2 - Survival by Passenger Class')"
      ]
     },
     "execution_count": 11,
     "metadata": {},
     "output_type": "execute_result"
    },
    {
     "data": {
      "image/png": "[encoded data removed]",
      "text/plain": [
       "<Figure size 576x360 with 1 Axes>"
      ]
     },
     "metadata": {
      "needs_background": "light"
     },
     "output_type": "display_data"
    }
   ],
   "source": [
    "df_plot = master.groupby(['Survived', 'Pclass']).size().reset_index().pivot(columns='Survived', index='Pclass', values=0)\n",
    "df_plot.plot(kind='bar', stacked=True, figsize=(8,5))\n",
    "plt.title('Figure 2 - Survival by Passenger Class')\n",
    "# plt.savefig(\"Figure 2.png\")"
   ]
  },
  {
   "cell_type": "code",
   "execution_count": 12,
   "metadata": {},
   "outputs": [
    {
     "name": "stdout",
     "output_type": "stream",
     "text": [
      "The percentage of First-Class passengers in the training data who survived: 63.0%\n"
     ]
    }
   ],
   "source": [
    "first_survival_rate = (len(master.query('PassengerId<=891 and Pclass == 1 and Survived == 1')) \n",
    " / len(master.query('PassengerId<=891 and Pclass == 1'))) * 100\n",
    "print(f\"The percentage of First-Class passengers in the training data who survived: {first_survival_rate:0.1f}%\")"
   ]
  },
  {
   "cell_type": "code",
   "execution_count": 13,
   "metadata": {},
   "outputs": [
    {
     "name": "stdout",
     "output_type": "stream",
     "text": [
      "The percentage of Second-Class passengers in the training data who survived: 47.3%\n"
     ]
    }
   ],
   "source": [
    "second_survival_rate = (len(master.query('PassengerId<=891 and Pclass == 2 and Survived == 1')) \n",
    " / len(master.query('PassengerId<=891 and Pclass == 2'))) * 100\n",
    "print(f\"The percentage of Second-Class passengers in the training data who survived: {second_survival_rate:0.1f}%\")"
   ]
  },
  {
   "cell_type": "code",
   "execution_count": 14,
   "metadata": {},
   "outputs": [
    {
     "name": "stdout",
     "output_type": "stream",
     "text": [
      "The percentage of Second-Class passengers in the training data who survived: 24.2%\n"
     ]
    }
   ],
   "source": [
    "third_survival_rate = (len(master.query('PassengerId<=891 and Pclass == 3 and Survived == 1')) \n",
    " / len(master.query('PassengerId<=891 and Pclass == 3'))) * 100\n",
    "print(f\"The percentage of Second-Class passengers in the training data who survived: {third_survival_rate:0.1f}%\")"
   ]
  },
  {
   "cell_type": "markdown",
   "metadata": {},
   "source": [
    "It appears that Figure 2 supports our hypothesis and shows that the the majority of First Class (Pclass == 1) passengers survived, roughly 50% of Second Class (Pclass == 2) passengers survived, and the majority of Third Class (Pclass == 3) passengers perished.  "
   ]
  },
  {
   "cell_type": "markdown",
   "metadata": {},
   "source": [
    "The dataset provided by Kaggle includes two categorical features that may be able to yield some insights into the composition of the groups traveling together on the ship.  These features are 'SibSp' and 'Parch'.  'SibSp' represents the number of siblings and/or spouse that an individual was traveling with, and 'Parch' represents the number of parents and/or children that a passenger was traveling with.  If we add these two features together, plus 1, we get the number of members in each family that were traveling together.  Again, knowing that there were not enough lifeboats on the Titanic, and assuming that families would be reluctant to split up, we can reasonably hypothesize that large families would be less likely to survive.  We can test this hypothesis by first calculating the size of each family and plotting that against survival."
   ]
  },
  {
   "cell_type": "code",
   "execution_count": 15,
   "metadata": {},
   "outputs": [],
   "source": [
    "master['FamilySize'] = master['SibSp'] + master['Parch'] + 1"
   ]
  },
  {
   "cell_type": "code",
   "execution_count": 16,
   "metadata": {},
   "outputs": [
    {
     "data": {
      "text/plain": [
       "Text(0.5, 1, 'Figure 3 - Family Size and Survival')"
      ]
     },
     "execution_count": 16,
     "metadata": {},
     "output_type": "execute_result"
    },
    {
     "data": {
      "text/plain": [
       "<Figure size 1152x576 with 0 Axes>"
      ]
     },
     "metadata": {},
     "output_type": "display_data"
    },
    {
     "data": {
      "image/png": "[encoded data removed]",
      "text/plain": [
       "<Figure size 720x360 with 1 Axes>"
      ]
     },
     "metadata": {
      "needs_background": "light"
     },
     "output_type": "display_data"
    }
   ],
   "source": [
    "plt.figure(figsize=(16,8))\n",
    "sns.catplot(x='FamilySize', y='Survived', data=master, kind='bar', aspect=2)\n",
    "plt.title('Figure 3 - Family Size and Survival')\n",
    "# plt.savefig(\"Figure 3.png\")"
   ]
  },
  {
   "cell_type": "markdown",
   "metadata": {},
   "source": [
    "Figure 3 above shows us that families with between 2 to 4 members were by far the most likely to survive.  Those travelling on their own, or in families of 5 or more, were substantially less likely to survive.  "
   ]
  },
  {
   "cell_type": "markdown",
   "metadata": {},
   "source": [
    "The last categorical feature that we investigated is the point of Embarkation, 'Embarked'.  Passengers onboard the Titanic that fateful night had boarded at either, Cherbourg 'C', Queenstown 'Q', or Southampton 'S'.  While it is likely more coincidence than anything else, we should still review the relationship between Embarked and Survived."
   ]
  },
  {
   "cell_type": "code",
   "execution_count": 17,
   "metadata": {},
   "outputs": [
    {
     "data": {
      "text/plain": [
       "Text(0.5, 1.0, 'Figure 4 - Survival by Point of Embarkation')"
      ]
     },
     "execution_count": 17,
     "metadata": {},
     "output_type": "execute_result"
    },
    {
     "data": {
      "image/png": "[encoded data removed]",
      "text/plain": [
       "<Figure size 576x360 with 1 Axes>"
      ]
     },
     "metadata": {
      "needs_background": "light"
     },
     "output_type": "display_data"
    }
   ],
   "source": [
    "df_plot = master.groupby(['Survived', 'Embarked']).size().reset_index().pivot(columns='Survived', index='Embarked', values=0)\n",
    "df_plot.plot(kind='bar', stacked=True, figsize=(8,5))\n",
    "plt.title('Figure 4 - Survival by Point of Embarkation')\n",
    "# plt.savefig(\"Figure 2.4.png\")"
   ]
  },
  {
   "cell_type": "code",
   "execution_count": 18,
   "metadata": {},
   "outputs": [
    {
     "name": "stdout",
     "output_type": "stream",
     "text": [
      "The percentage of passengers in the training data who embarked at Cherbourg: 18.9%\n",
      "The percentage of Cherbourg passengers in the training data who survived: 55.4%\n"
     ]
    }
   ],
   "source": [
    "C_rate = (len(master.query('PassengerId<=891 and Embarked == \"C\"')) \n",
    " / len(master.query('PassengerId<=891'))) * 100\n",
    "print(f\"The percentage of passengers in the training data who embarked at Cherbourg: {C_rate:0.1f}%\")\n",
    "\n",
    "C_survival_rate = (len(master.query('PassengerId<=891 and Embarked == \"C\" and Survived == 1')) \n",
    " / len(master.query('PassengerId<=891 and Embarked == \"C\"'))) * 100\n",
    "print(f\"The percentage of Cherbourg passengers in the training data who survived: {C_survival_rate:0.1f}%\")"
   ]
  },
  {
   "cell_type": "code",
   "execution_count": 19,
   "metadata": {},
   "outputs": [
    {
     "name": "stdout",
     "output_type": "stream",
     "text": [
      "The percentage of passengers in the training data who embarked at Queenstown: 8.6%\n",
      "The percentage of Queenstown passengers in the training data who survived: 39.0%\n"
     ]
    }
   ],
   "source": [
    "Q_rate = (len(master.query('PassengerId<=891 and Embarked == \"Q\"')) \n",
    " / len(master.query('PassengerId<=891'))) * 100\n",
    "print(f\"The percentage of passengers in the training data who embarked at Queenstown: {Q_rate:0.1f}%\")\n",
    "\n",
    "Q_survival_rate = (len(master.query('PassengerId<=891 and Embarked == \"Q\" and Survived == 1')) \n",
    " / len(master.query('PassengerId<=891 and Embarked == \"Q\"'))) * 100\n",
    "print(f\"The percentage of Queenstown passengers in the training data who survived: {Q_survival_rate:0.1f}%\")"
   ]
  },
  {
   "cell_type": "code",
   "execution_count": 20,
   "metadata": {},
   "outputs": [
    {
     "name": "stdout",
     "output_type": "stream",
     "text": [
      "The percentage of passengers in the training data who embarked at Southampton: 72.3%\n",
      "The percentage of Southampton passengers in the training data who survived: 33.7%\n"
     ]
    }
   ],
   "source": [
    "S_rate = (len(master.query('PassengerId<=891 and Embarked == \"S\"')) \n",
    " / len(master.query('PassengerId<=891'))) * 100\n",
    "print(f\"The percentage of passengers in the training data who embarked at Southampton: {S_rate:0.1f}%\")\n",
    "\n",
    "S_survival_rate = (len(master.query('PassengerId<=891 and Embarked == \"S\" and Survived == 1')) \n",
    " / len(master.query('PassengerId<=891 and Embarked == \"S\"'))) * 100\n",
    "print(f\"The percentage of Southampton passengers in the training data who survived: {S_survival_rate:0.1f}%\")"
   ]
  },
  {
   "cell_type": "markdown",
   "metadata": {},
   "source": [
    "It does appear that passengers who embarked at Southampton were more likely to perish.  However, this is deceptive as vast majority of passengers embarked at this port.  With such a grossly uneven distribution there is no way to make a meaningful conclusion regarding the relationship between embarkation and survival. Therefore, we will leave this feature out of our later modeling.     "
   ]
  },
  {
   "cell_type": "markdown",
   "metadata": {},
   "source": [
    "Now that we have investigated the relationships between the categorical data and survival, it is time to look at the correlation between our continuous numerical features and survival.  Namely Age and Fare.  However, before we do this we need to address the fact that the values for Fare are per ticket and not per passenger. For example, The Taussig family were all traveling under Ticket No. 110413, but they did not each pay 79.650, but instead that was the cost for the entire family.  "
   ]
  },
  {
   "cell_type": "code",
   "execution_count": 21,
   "metadata": {},
   "outputs": [
    {
     "data": {
      "text/html": [
       "<div>\n",
       "<style scoped>\n",
       "    .dataframe tbody tr th:only-of-type {\n",
       "        vertical-align: middle;\n",
       "    }\n",
       "\n",
       "    .dataframe tbody tr th {\n",
       "        vertical-align: top;\n",
       "    }\n",
       "\n",
       "    .dataframe thead th {\n",
       "        text-align: right;\n",
       "    }\n",
       "</style>\n",
       "<table border=\"1\" class=\"dataframe\">\n",
       "  <thead>\n",
       "    <tr style=\"text-align: right;\">\n",
       "      <th></th>\n",
       "      <th>PassengerId</th>\n",
       "      <th>Survived</th>\n",
       "      <th>Pclass</th>\n",
       "      <th>Name</th>\n",
       "      <th>Sex</th>\n",
       "      <th>Age</th>\n",
       "      <th>SibSp</th>\n",
       "      <th>Parch</th>\n",
       "      <th>Ticket</th>\n",
       "      <th>Fare</th>\n",
       "      <th>Cabin</th>\n",
       "      <th>Embarked</th>\n",
       "      <th>Title</th>\n",
       "      <th>FamilySize</th>\n",
       "    </tr>\n",
       "  </thead>\n",
       "  <tbody>\n",
       "    <tr>\n",
       "      <th>262</th>\n",
       "      <td>263</td>\n",
       "      <td>0.0</td>\n",
       "      <td>1</td>\n",
       "      <td>Taussig, Mr. Emil</td>\n",
       "      <td>male</td>\n",
       "      <td>52.0</td>\n",
       "      <td>1</td>\n",
       "      <td>1</td>\n",
       "      <td>110413</td>\n",
       "      <td>79.65</td>\n",
       "      <td>E67</td>\n",
       "      <td>S</td>\n",
       "      <td>man</td>\n",
       "      <td>3</td>\n",
       "    </tr>\n",
       "    <tr>\n",
       "      <th>558</th>\n",
       "      <td>559</td>\n",
       "      <td>1.0</td>\n",
       "      <td>1</td>\n",
       "      <td>Taussig, Mrs. Emil (Tillie Mandelbaum)</td>\n",
       "      <td>female</td>\n",
       "      <td>39.0</td>\n",
       "      <td>1</td>\n",
       "      <td>1</td>\n",
       "      <td>110413</td>\n",
       "      <td>79.65</td>\n",
       "      <td>E67</td>\n",
       "      <td>S</td>\n",
       "      <td>woman</td>\n",
       "      <td>3</td>\n",
       "    </tr>\n",
       "    <tr>\n",
       "      <th>585</th>\n",
       "      <td>586</td>\n",
       "      <td>1.0</td>\n",
       "      <td>1</td>\n",
       "      <td>Taussig, Miss. Ruth</td>\n",
       "      <td>female</td>\n",
       "      <td>18.0</td>\n",
       "      <td>0</td>\n",
       "      <td>2</td>\n",
       "      <td>110413</td>\n",
       "      <td>79.65</td>\n",
       "      <td>E68</td>\n",
       "      <td>S</td>\n",
       "      <td>woman</td>\n",
       "      <td>3</td>\n",
       "    </tr>\n",
       "  </tbody>\n",
       "</table>\n",
       "</div>"
      ],
      "text/plain": [
       "     PassengerId  Survived  Pclass                                    Name  \\\n",
       "262          263       0.0       1                       Taussig, Mr. Emil   \n",
       "558          559       1.0       1  Taussig, Mrs. Emil (Tillie Mandelbaum)   \n",
       "585          586       1.0       1                     Taussig, Miss. Ruth   \n",
       "\n",
       "        Sex   Age  SibSp  Parch  Ticket   Fare Cabin Embarked  Title  \\\n",
       "262    male  52.0      1      1  110413  79.65   E67        S    man   \n",
       "558  female  39.0      1      1  110413  79.65   E67        S  woman   \n",
       "585  female  18.0      0      2  110413  79.65   E68        S  woman   \n",
       "\n",
       "     FamilySize  \n",
       "262           3  \n",
       "558           3  \n",
       "585           3  "
      ]
     },
     "execution_count": 21,
     "metadata": {},
     "output_type": "execute_result"
    }
   ],
   "source": [
    "# Table 1\n",
    "master.loc[master['Ticket'] == '110413']"
   ]
  },
  {
   "cell_type": "markdown",
   "metadata": {},
   "source": [
    "So, before we do any analysis using the 'Fare' values we need to first standardize this value on a per-person basis by dividing the Fare by the number of people on each ticket. We will call the number of people on each ticket the 'PartySize' and the adjusted per-person fares 'FareAdj'."
   ]
  },
  {
   "cell_type": "code",
   "execution_count": 22,
   "metadata": {},
   "outputs": [],
   "source": [
    "master['PartySize'] = master['Ticket'].value_counts()[master.loc[:,'Ticket']].values"
   ]
  },
  {
   "cell_type": "code",
   "execution_count": 23,
   "metadata": {},
   "outputs": [],
   "source": [
    "master['FareAdj'] = master['Fare'] / master['PartySize']"
   ]
  },
  {
   "cell_type": "markdown",
   "metadata": {},
   "source": [
    "We can now use a heatmap to plot the correlation between Survival, Age and FareAdj."
   ]
  },
  {
   "cell_type": "code",
   "execution_count": 24,
   "metadata": {},
   "outputs": [
    {
     "data": {
      "text/plain": [
       "Text(0.5, 1, 'Figure 5 - Survival, Age and Fare')"
      ]
     },
     "execution_count": 24,
     "metadata": {},
     "output_type": "execute_result"
    },
    {
     "data": {
      "image/png": "[encoded data removed]",
      "text/plain": [
       "<Figure size 576x360 with 2 Axes>"
      ]
     },
     "metadata": {
      "needs_background": "light"
     },
     "output_type": "display_data"
    }
   ],
   "source": [
    "plt.figure(figsize=(8,5))\n",
    "sns.heatmap(master[['Survived', 'Age', 'FareAdj']].corr(), annot=True, fmt='0.2f', cmap='coolwarm')\n",
    "plt.title('Figure 5 - Survival, Age and Fare')\n",
    "#  plt.savefig(\"Figure 5.png\")"
   ]
  },
  {
   "cell_type": "markdown",
   "metadata": {},
   "source": [
    "Looking at Figure 5 we can see that there is little, but some, correlation between Age and Survival.  There is also a marginal correlation between Fare and Survival. Let us look into this a little deeper and review the distributions of ages and fares for those who survived versus those who did not. "
   ]
  },
  {
   "cell_type": "code",
   "execution_count": 25,
   "metadata": {},
   "outputs": [
    {
     "data": {
      "text/plain": [
       "Text(0.5, 1.0, 'Figure 6 - Distribution of Ages')"
      ]
     },
     "execution_count": 25,
     "metadata": {},
     "output_type": "execute_result"
    },
    {
     "data": {
      "image/png": "[encoded data removed]",
      "text/plain": [
       "<Figure size 576x360 with 1 Axes>"
      ]
     },
     "metadata": {
      "needs_background": "light"
     },
     "output_type": "display_data"
    }
   ],
   "source": [
    "plot_df = master.groupby(['Survived', 'Age']).size().reset_index()\n",
    "plot_df.loc[plot_df['Survived'] == 0]['Age'].hist(bins=10, figsize=(8,5))\n",
    "plot_df.loc[plot_df['Survived'] == 1]['Age'].hist(bins=10, figsize=(8,5), alpha=0.5)\n",
    "plt.legend(['0','1'])\n",
    "plt.xlabel(\"Age\")\n",
    "plt.ylabel(\"Count\")\n",
    "plt.title('Figure 6 - Distribution of Ages')\n",
    "# plt.savefig(\"Figure 6.png\")"
   ]
  },
  {
   "cell_type": "code",
   "execution_count": 26,
   "metadata": {},
   "outputs": [
    {
     "data": {
      "text/plain": [
       "Text(0.5, 1.0, 'Figure 7 - Distribution of Fares')"
      ]
     },
     "execution_count": 26,
     "metadata": {},
     "output_type": "execute_result"
    },
    {
     "data": {
      "image/png": "[encoded data removed]",
      "text/plain": [
       "<Figure size 576x360 with 1 Axes>"
      ]
     },
     "metadata": {
      "needs_background": "light"
     },
     "output_type": "display_data"
    }
   ],
   "source": [
    "plot_df = master.groupby(['Survived', 'FareAdj']).size().reset_index()\n",
    "plot_df.loc[plot_df['Survived'] == 0]['FareAdj'].hist(bins=20, figsize=(8,5))\n",
    "plot_df.loc[plot_df['Survived'] == 1]['FareAdj'].hist(bins=20, figsize=(8,5), alpha=0.5)\n",
    "plt.legend(['0','1'])\n",
    "plt.xlabel(\"Adjusted Per Person Fare\")\n",
    "plt.ylabel(\"Count\")\n",
    "plt.title('Figure 7 - Distribution of Fares')\n",
    "# plt.savefig(\"Figure 7.png\")"
   ]
  },
  {
   "cell_type": "markdown",
   "metadata": {},
   "source": [
    "Figure 6 above shows us that there is a substantial difference in survival for those under 15 years old.  Figure 7 shows us that those who paid under 15 for their ticket were more likely to perish and those whose paid around 25-30 were more likely to survive.  "
   ]
  },
  {
   "cell_type": "markdown",
   "metadata": {},
   "source": [
    "## What We Have Learned So Far\n",
    "So far, our EDA helped us make the following determinations regarding survival:\n",
    "* Primary Factors:\n",
    "    * Adult males were the least likely group to survive\n",
    "    * Women and children were the most likely groups to survive\n",
    "* Secondary Factors:\n",
    "    * Passenger class and the size a family traveling together were significant factors in survival\n",
    "    * Age and the per-person fare paid were moderate factors in survival\n",
    "* Features we can ignore:\n",
    "    * There are simple not enough data-points for cabins to make any meaningful determination with them - Over 77% of the values are missing\n",
    "    * The poor distribution of embarkation points makes this feature also unsuitable for our analysis\n",
    "    \n",
    "The above determinations are important because they tell us that if we can find adult males who survived, and conversely women and children who perished, we will be well on our way to being able to make accurate predictions regarding survival in general.  We have also demonstrated that we can use passenger class, family size, per-person fare and age to help us find these groups of rare individuals.    \n",
    "\n",
    "This will form the basis of the feature engineering and machine learning which we will apply in the following sections.  However, before we move forward we need to first look at imputing missing values in the provided dataset.  "
   ]
  },
  {
   "cell_type": "markdown",
   "metadata": {},
   "source": [
    "## What Data Is Missing?\n",
    "In this section we will review what data points are missing in our master DataFrame. We will do this with some quick statistics.  Later we will look at how to impute the missing data points. We start with calculating the number of null values in each feature."
   ]
  },
  {
   "cell_type": "code",
   "execution_count": 27,
   "metadata": {},
   "outputs": [
    {
     "data": {
      "text/plain": [
       "PassengerId       0\n",
       "Survived        418\n",
       "Pclass            0\n",
       "Name              0\n",
       "Sex               0\n",
       "Age             263\n",
       "SibSp             0\n",
       "Parch             0\n",
       "Ticket            0\n",
       "Fare              1\n",
       "Cabin          1014\n",
       "Embarked          2\n",
       "Title             0\n",
       "FamilySize        0\n",
       "PartySize         0\n",
       "FareAdj           1\n",
       "dtype: int64"
      ]
     },
     "execution_count": 27,
     "metadata": {},
     "output_type": "execute_result"
    }
   ],
   "source": [
    "master.isnull().sum()"
   ]
  },
  {
   "cell_type": "markdown",
   "metadata": {},
   "source": [
    "The above summary tells us how many values from each feature we are missing.  Because we have already decided that Cabin and Embarked are not important to our analysis, we will just look at imputing the missing Age and Fare values."
   ]
  },
  {
   "cell_type": "markdown",
   "metadata": {},
   "source": [
    "## Inputing Missing Age and Fare Values\n",
    "To impute the missing values we will use a Decision Tree Regressor (DTR) as it should be a more accurate method than simply taking average values. Starting with imputing the missing ages, we will use the 'Title' feature which we engineered earlier along with 'Pclass', 'SibSp' and 'Parch' to train our DTR.  First split we split our master DataFrame into one with age values, which will be out DTR training data, and one without which will be our DTR test data.  We will then use 'dummies' to one-hot encode both the training and test data before we fit our DTR and make our age predictions. "
   ]
  },
  {
   "cell_type": "code",
   "execution_count": 28,
   "metadata": {},
   "outputs": [],
   "source": [
    "all_ages = master.loc[master['Age'] > 0].copy()\n",
    "no_ages = master.loc[pd.isnull(master['Age'])].copy()"
   ]
  },
  {
   "cell_type": "code",
   "execution_count": 29,
   "metadata": {},
   "outputs": [],
   "source": [
    "X_train = pd.get_dummies(all_ages[['Title', 'Pclass', 'SibSp', 'Parch']])\n",
    "y_train = all_ages['Age']\n",
    "X_test = pd.get_dummies(no_ages[['Title', 'Pclass', 'SibSp', 'Parch']])"
   ]
  },
  {
   "cell_type": "code",
   "execution_count": 30,
   "metadata": {},
   "outputs": [],
   "source": [
    "from sklearn.tree import DecisionTreeRegressor"
   ]
  },
  {
   "cell_type": "code",
   "execution_count": 31,
   "metadata": {},
   "outputs": [],
   "source": [
    "dtr = DecisionTreeRegressor()"
   ]
  },
  {
   "cell_type": "code",
   "execution_count": 32,
   "metadata": {},
   "outputs": [
    {
     "data": {
      "text/plain": [
       "DecisionTreeRegressor(ccp_alpha=0.0, criterion='mse', max_depth=None,\n",
       "                      max_features=None, max_leaf_nodes=None,\n",
       "                      min_impurity_decrease=0.0, min_impurity_split=None,\n",
       "                      min_samples_leaf=1, min_samples_split=2,\n",
       "                      min_weight_fraction_leaf=0.0, presort='deprecated',\n",
       "                      random_state=None, splitter='best')"
      ]
     },
     "execution_count": 32,
     "metadata": {},
     "output_type": "execute_result"
    }
   ],
   "source": [
    "dtr.fit(X_train, y_train)"
   ]
  },
  {
   "cell_type": "code",
   "execution_count": 33,
   "metadata": {},
   "outputs": [],
   "source": [
    "missing_ages = pd.DataFrame(dtr.predict(X_test), index=X_test.index, columns=['Age'])"
   ]
  },
  {
   "cell_type": "code",
   "execution_count": 34,
   "metadata": {},
   "outputs": [],
   "source": [
    "master['Age'] = master['Age'].combine_first(missing_ages['Age'])"
   ]
  },
  {
   "cell_type": "markdown",
   "metadata": {},
   "source": [
    "Before we move on let us double-check that we have imputed our age values correctly by checking the number of null values in our master DataFrame"
   ]
  },
  {
   "cell_type": "code",
   "execution_count": 35,
   "metadata": {},
   "outputs": [
    {
     "data": {
      "text/plain": [
       "PassengerId       0\n",
       "Survived        418\n",
       "Pclass            0\n",
       "Name              0\n",
       "Sex               0\n",
       "Age               0\n",
       "SibSp             0\n",
       "Parch             0\n",
       "Ticket            0\n",
       "Fare              1\n",
       "Cabin          1014\n",
       "Embarked          2\n",
       "Title             0\n",
       "FamilySize        0\n",
       "PartySize         0\n",
       "FareAdj           1\n",
       "dtype: int64"
      ]
     },
     "execution_count": 35,
     "metadata": {},
     "output_type": "execute_result"
    }
   ],
   "source": [
    "master.isnull().sum()"
   ]
  },
  {
   "cell_type": "markdown",
   "metadata": {},
   "source": [
    "We will repeat this process again for the missing fares."
   ]
  },
  {
   "cell_type": "code",
   "execution_count": 36,
   "metadata": {},
   "outputs": [],
   "source": [
    "all_fares = master.loc[master['Fare'] > 0].copy()\n",
    "no_fares = master.loc[pd.isnull(master['Fare'])].copy()"
   ]
  },
  {
   "cell_type": "code",
   "execution_count": 37,
   "metadata": {},
   "outputs": [],
   "source": [
    "X_train = pd.get_dummies(all_fares[['Title', 'Pclass', 'Embarked']])\n",
    "y_train = all_fares['Fare']\n",
    "X_test = pd.get_dummies(no_fares[['Title', 'Pclass', 'Embarked']])"
   ]
  },
  {
   "cell_type": "code",
   "execution_count": 38,
   "metadata": {},
   "outputs": [],
   "source": [
    "X_test = X_test.reindex(columns=X_train.columns)\n",
    "X_test = X_test.fillna(0)"
   ]
  },
  {
   "cell_type": "code",
   "execution_count": 39,
   "metadata": {},
   "outputs": [],
   "source": [
    "dtr = DecisionTreeRegressor()"
   ]
  },
  {
   "cell_type": "code",
   "execution_count": 40,
   "metadata": {},
   "outputs": [
    {
     "data": {
      "text/plain": [
       "DecisionTreeRegressor(ccp_alpha=0.0, criterion='mse', max_depth=None,\n",
       "                      max_features=None, max_leaf_nodes=None,\n",
       "                      min_impurity_decrease=0.0, min_impurity_split=None,\n",
       "                      min_samples_leaf=1, min_samples_split=2,\n",
       "                      min_weight_fraction_leaf=0.0, presort='deprecated',\n",
       "                      random_state=None, splitter='best')"
      ]
     },
     "execution_count": 40,
     "metadata": {},
     "output_type": "execute_result"
    }
   ],
   "source": [
    "dtr.fit(X_train, y_train)"
   ]
  },
  {
   "cell_type": "code",
   "execution_count": 41,
   "metadata": {},
   "outputs": [],
   "source": [
    "missing_fares = pd.DataFrame(dtr.predict(X_test), index=X_test.index, columns=['Fare'])"
   ]
  },
  {
   "cell_type": "code",
   "execution_count": 42,
   "metadata": {},
   "outputs": [],
   "source": [
    "master['Fare'] = master['Fare'].combine_first(missing_fares['Fare'])"
   ]
  },
  {
   "cell_type": "markdown",
   "metadata": {},
   "source": [
    "Since we were missing a 'Fare' value we also have a missing 'FareAdj' value.  We will just re-calculate all the 'FareAdj' values to address this quickly."
   ]
  },
  {
   "cell_type": "code",
   "execution_count": 43,
   "metadata": {},
   "outputs": [],
   "source": [
    "master['FareAdj'] = master['Fare'] / master['PartySize']"
   ]
  },
  {
   "cell_type": "markdown",
   "metadata": {},
   "source": [
    "Let's see how we are doing for missing values now."
   ]
  },
  {
   "cell_type": "code",
   "execution_count": 44,
   "metadata": {},
   "outputs": [
    {
     "data": {
      "text/plain": [
       "PassengerId       0\n",
       "Survived        418\n",
       "Pclass            0\n",
       "Name              0\n",
       "Sex               0\n",
       "Age               0\n",
       "SibSp             0\n",
       "Parch             0\n",
       "Ticket            0\n",
       "Fare              0\n",
       "Cabin          1014\n",
       "Embarked          2\n",
       "Title             0\n",
       "FamilySize        0\n",
       "PartySize         0\n",
       "FareAdj           0\n",
       "dtype: int64"
      ]
     },
     "execution_count": 44,
     "metadata": {},
     "output_type": "execute_result"
    }
   ],
   "source": [
    "master.isnull().sum()"
   ]
  },
  {
   "cell_type": "markdown",
   "metadata": {},
   "source": [
    "We have now sucessfully imputed all of the missing values that we need for our analysis and modelling. "
   ]
  },
  {
   "cell_type": "markdown",
   "metadata": {},
   "source": [
    "# Finding the Surviving Men"
   ]
  },
  {
   "cell_type": "markdown",
   "metadata": {},
   "source": [
    "## Isolating A Training Set\n",
    "The first rare group that we are going to look for are the surviving adult males.  The first step towards doing this is to create a new training dataset for men only.  "
   ]
  },
  {
   "cell_type": "code",
   "execution_count": 45,
   "metadata": {},
   "outputs": [],
   "source": [
    "X_men = master[(master['PassengerId'] <= 891) & (master['Title'] == 'man')]"
   ]
  },
  {
   "cell_type": "markdown",
   "metadata": {},
   "source": [
    "Next we will generate some Kernel Density Estimation (KDE) plots to look at the distributions of 'Age', 'FareAdj', 'FamilySize' and 'Pclass' in this trainging data.   "
   ]
  },
  {
   "cell_type": "code",
   "execution_count": 46,
   "metadata": {},
   "outputs": [
    {
     "data": {
      "image/png": "[encoded data removed]",
      "text/plain": [
       "<Figure size 1080x360 with 4 Axes>"
      ]
     },
     "metadata": {
      "needs_background": "light"
     },
     "output_type": "display_data"
    }
   ],
   "source": [
    "fig, axes = plt.subplots(2,2, figsize=(15,5))\n",
    "sns.kdeplot(X_men.loc[X_men['Survived']==0.0]['Age'], shade=True, color='r', ax=axes[0,0], legend=False)\n",
    "sns.kdeplot(X_men.loc[X_men['Survived']==1.0]['Age'], shade=True, color='g', ax=axes[0,0], legend=False)\n",
    "axes[0,0].set_title('Age')\n",
    "sns.kdeplot(X_men.loc[X_men['Survived']==0.0]['FareAdj'], shade=True, color='r', ax=axes[0,1], legend=False)\n",
    "sns.kdeplot(X_men.loc[X_men['Survived']==1.0]['FareAdj'], shade=True, color='g', ax=axes[0,1], legend=False)\n",
    "axes[0,1].set_title('FareAdj')\n",
    "axes[0,1].set_xlim(0,50)\n",
    "sns.kdeplot(X_men.loc[X_men['Survived']==0.0]['FamilySize'], shade=True, color='r', ax=axes[1,0], bw=0, legend=False)\n",
    "sns.kdeplot(X_men.loc[X_men['Survived']==1.0]['FamilySize'], shade=True, color='g', ax=axes[1,0], bw=0, legend=False)\n",
    "axes[1,0].set_title('FamilySize')\n",
    "axes[1,0].set_xlim(1.5,6.5)\n",
    "sns.kdeplot(X_men.loc[X_men['Survived']==0.0]['Pclass'], shade=True, color='r', ax=axes[1,1], legend=False)\n",
    "sns.kdeplot(X_men.loc[X_men['Survived']==1.0]['Pclass'], shade=True, color='g', ax=axes[1,1], legend=False)\n",
    "axes[1,1].set_title('Pclass')\n",
    "fig.legend(['Non-Survived','Survived'])\n",
    "fig.tight_layout()\n",
    "# plt.savefig(\"Figure 8.png\")"
   ]
  },
  {
   "cell_type": "markdown",
   "metadata": {},
   "source": [
    "The above plots tell us that we are most likely to find surviving men at Age == 40, FareAdj == 20, FamilySize == 2 and Pclass == 1.\n",
    "\n",
    "To find patterns where all these features intersect, we must reduce them down to two dimensions. This will make it possible to plot their relationships in 2D."
   ]
  },
  {
   "cell_type": "markdown",
   "metadata": {},
   "source": [
    "## Finding Patterns of Survival"
   ]
  },
  {
   "cell_type": "code",
   "execution_count": 47,
   "metadata": {},
   "outputs": [],
   "source": [
    "y = X_men['Survived']\n",
    "x1 = X_men['FareAdj']/10\n",
    "x2 = (X_men['FamilySize'])+(X_men['Age']/70)\n",
    "Pclass = X_men['Pclass']\n",
    "X_men_2feats = pd.concat([y.astype(int),x1,x2,Pclass], axis=1)\n",
    "X_men_2feats.columns = ['Survived', 'x1', 'x2', 'Pclass']"
   ]
  },
  {
   "cell_type": "code",
   "execution_count": 48,
   "metadata": {},
   "outputs": [
    {
     "name": "stdout",
     "output_type": "stream",
     "text": [
      "<class 'pandas.core.frame.DataFrame'>\n",
      "Int64Index: 537 entries, 0 to 890\n",
      "Data columns (total 4 columns):\n",
      " #   Column    Non-Null Count  Dtype  \n",
      "---  ------    --------------  -----  \n",
      " 0   Survived  537 non-null    int32  \n",
      " 1   x1        537 non-null    float64\n",
      " 2   x2        537 non-null    float64\n",
      " 3   Pclass    537 non-null    int64  \n",
      "dtypes: float64(2), int32(1), int64(1)\n",
      "memory usage: 18.9 KB\n"
     ]
    }
   ],
   "source": [
    "X_men_2feats.info()"
   ]
  },
  {
   "cell_type": "markdown",
   "metadata": {},
   "source": [
    "We choose to only review FareAdj/10 (x1) vs. FamilySize+Age/70 (x2) and ignored Pclass for now because, as we can see in Figure 4.2.1 below, there is already a strong correlation between the Adjusted Fare and Passenger Class."
   ]
  },
  {
   "cell_type": "code",
   "execution_count": 49,
   "metadata": {},
   "outputs": [
    {
     "data": {
      "text/plain": [
       "Text(0.5, 0, 'x1=Adjusted Fare/10')"
      ]
     },
     "execution_count": 49,
     "metadata": {},
     "output_type": "execute_result"
    },
    {
     "data": {
      "image/png": "[encoded data removed]",
      "text/plain": [
       "<Figure size 576x360 with 1 Axes>"
      ]
     },
     "metadata": {
      "needs_background": "light"
     },
     "output_type": "display_data"
    }
   ],
   "source": [
    "plt.figure(figsize=(8,5))\n",
    "plt_df = X_men_2feats.query('x1<6 and x2<6').groupby(['Pclass', 'x1']).size().reset_index()\n",
    "plt_df.loc[plt_df['Pclass'] == 1]['x1'].hist(bins=12, alpha=0.7)\n",
    "plt_df.loc[plt_df['Pclass'] == 2]['x1'].hist(bins=12, alpha=0.7)\n",
    "plt_df.loc[plt_df['Pclass'] == 3]['x1'].hist(bins=12, alpha=0.7)\n",
    "plt.legend([1,2,3])\n",
    "plt.title('Figure 9 - Adjusted Fare Distribution by Class')\n",
    "plt.xlabel('x1=Adjusted Fare/10')\n",
    "# plt.savefig(\"Figure 9.png\")"
   ]
  },
  {
   "cell_type": "markdown",
   "metadata": {},
   "source": [
    "Below we plot our new features to see if they show any patterns of survival."
   ]
  },
  {
   "cell_type": "code",
   "execution_count": 50,
   "metadata": {},
   "outputs": [
    {
     "data": {
      "text/plain": [
       "Text(0.5, 1.0, 'Figure 10 - Survival Patterns of Adult Males')"
      ]
     },
     "execution_count": 50,
     "metadata": {},
     "output_type": "execute_result"
    },
    {
     "data": {
      "image/png": "[encoded data removed]",
      "text/plain": [
       "<Figure size 576x360 with 1 Axes>"
      ]
     },
     "metadata": {
      "needs_background": "light"
     },
     "output_type": "display_data"
    }
   ],
   "source": [
    "plt.figure(figsize=(8,5))\n",
    "sns.scatterplot(x='x1', y='x2', hue='Survived', style='Pclass', data=X_men_2feats.query('x1<6 and x2<6'), alpha=0.5)\n",
    "plt.xlabel('x1=Adjusted Fare/10')\n",
    "plt.ylabel('x2=FamilySize + Age/70')\n",
    "plt.title('Figure 10 - Survival Patterns of Adult Males')\n",
    "# plt.savefig(\"Figure 10.png\")"
   ]
  },
  {
   "cell_type": "markdown",
   "metadata": {},
   "source": [
    "By creating x2=FamilySize+Age/70 we can view the SibSp, Parch and Age features all in one dimension.  Creating x1=Adjusted Fare/10 allows us to see the impact of individual ticket costs on a similar scale as 'x2'.  Looking at the above we see a cluster of surviving men around x2<=2.5 (Family Size <= 2 + Age < 35 ) and 2.5<x1<3.5 (per person fare of 25 to 35) which would put those passengers in First Class."
   ]
  },
  {
   "cell_type": "markdown",
   "metadata": {},
   "source": [
    "## Can XGBoost Find Patterns Of Surviving Men?\n",
    "In this section we will start with fitting an XGBoost (Extreme Gradient Boosted Trees) model to our men-only training data and then generate a set of 10,000 predictions over a series of linear vectors to plot the results.  This should enable us see if the model is able to find patterns of survival with our training data.  "
   ]
  },
  {
   "cell_type": "code",
   "execution_count": 51,
   "metadata": {},
   "outputs": [],
   "source": [
    "x1s = np.linspace(0,5,100)\n",
    "x2s = np.linspace(1,3,100)"
   ]
  },
  {
   "cell_type": "code",
   "execution_count": 52,
   "metadata": {},
   "outputs": [],
   "source": [
    "x1 = np.repeat(x1s, 100)\n",
    "x2 = [j for i in range(100) for j in x2s]"
   ]
  },
  {
   "cell_type": "code",
   "execution_count": 53,
   "metadata": {},
   "outputs": [],
   "source": [
    "g = pd.DataFrame([x1,x2]).T\n",
    "g.columns = ['x1','x2']"
   ]
  },
  {
   "cell_type": "code",
   "execution_count": 54,
   "metadata": {},
   "outputs": [],
   "source": [
    "from xgboost import XGBClassifier"
   ]
  },
  {
   "cell_type": "code",
   "execution_count": 55,
   "metadata": {},
   "outputs": [],
   "source": [
    "xgb = XGBClassifier(objective='binary:logistic', max_depth=5, learning_rate=0.1, gamma=0.1, colsample_bytree=1, min_child_weight=1)"
   ]
  },
  {
   "cell_type": "code",
   "execution_count": 56,
   "metadata": {},
   "outputs": [],
   "source": [
    "history = xgb.fit(X_men_2feats[['x1','x2']], X_men_2feats['Survived'], eval_metric='error')"
   ]
  },
  {
   "cell_type": "code",
   "execution_count": 57,
   "metadata": {},
   "outputs": [],
   "source": [
    "pred = xgb.predict(g[['x1','x2']])"
   ]
  },
  {
   "cell_type": "code",
   "execution_count": 58,
   "metadata": {},
   "outputs": [
    {
     "name": "stdout",
     "output_type": "stream",
     "text": [
      "The predicted survival rate for adult males is only 9.07%, so they are going to be hard to find!\n"
     ]
    }
   ],
   "source": [
    "print(f'The predicted survival rate for adult males is only {(sum(pred)/10000)*100}%, so they are going to be hard to find!')"
   ]
  },
  {
   "cell_type": "code",
   "execution_count": 59,
   "metadata": {},
   "outputs": [],
   "source": [
    "g['Survived'] = pred"
   ]
  },
  {
   "cell_type": "markdown",
   "metadata": {},
   "source": [
    "## Visualization of Our Prediction Model"
   ]
  },
  {
   "cell_type": "markdown",
   "metadata": {},
   "source": [
    "The light colours in the background below are the grid predictions and the darker coloured points are the actual values from the training data."
   ]
  },
  {
   "cell_type": "code",
   "execution_count": 60,
   "metadata": {},
   "outputs": [
    {
     "data": {
      "text/plain": [
       "Text(0.5, 1.0, 'Figure 11 - XGBoost Predicted Patterns of Adult Male Survival')"
      ]
     },
     "execution_count": 60,
     "metadata": {},
     "output_type": "execute_result"
    },
    {
     "data": {
      "image/png": "[encoded data removed]",
      "text/plain": [
       "<Figure size 720x504 with 1 Axes>"
      ]
     },
     "metadata": {
      "needs_background": "light"
     },
     "output_type": "display_data"
    }
   ],
   "source": [
    "plt.figure(figsize=(10,7))\n",
    "sns.scatterplot(x='x1', y='x2', hue='Survived', palette='pastel', data=g, alpha=0.6)\n",
    "sns.scatterplot(x='x1', y='x2', style='Pclass', hue='Survived', palette='bright',data=X_men_2feats.query('x1<5 and x2<3'))\n",
    "plt.legend()\n",
    "plt.xlabel('x1=Adjusted Fare/10')\n",
    "plt.ylabel('x2=FamilySize + Age/70')\n",
    "plt.title('Figure 11 - XGBoost Predicted Patterns of Adult Male Survival')\n",
    "# plt.savefig(\"Figure 11.png\")"
   ]
  },
  {
   "cell_type": "markdown",
   "metadata": {},
   "source": [
    "Looking at the above plot we see that our XGBoost model has determined that the men most likely to survive were from First Class (Pclass 1), paid ~28 for their ticket, had 2 or fewer people in their family on board and were under 30. This aligns with our earlier evaluations and gives us confidence in our model.  Unfortunately, it does appear that our model is unlikely to find any survivors outside of First Class. "
   ]
  },
  {
   "cell_type": "markdown",
   "metadata": {},
   "source": [
    "## Receiver Operator Characteristic (ROC) and Area Under the Curve (AUC)"
   ]
  },
  {
   "cell_type": "markdown",
   "metadata": {},
   "source": [
    "In order to tune our model a little further, we are going to evaluate the quality of the classifier output using the Receiver Operator Characteristic (ROC) metric and measure the Area Under the Curve (AUC). We will use these metrics to tune the hyperparameters of max_depth and the probability threshold [4]."
   ]
  },
  {
   "cell_type": "code",
   "execution_count": 61,
   "metadata": {},
   "outputs": [],
   "source": [
    "from sklearn.model_selection import train_test_split\n",
    "X_train, X_test, y_train, y_test = train_test_split(X_men_2feats[['x1','x2']], X_men_2feats['Survived'], test_size=.3, random_state=42)"
   ]
  },
  {
   "cell_type": "markdown",
   "metadata": {},
   "source": [
    "We rebuilt the XGBoost classifier several times and determined that a max depth of 5 gave us the greatest area under the curve, i.e. the highest rate of True Positives vs. False Positives. "
   ]
  },
  {
   "cell_type": "code",
   "execution_count": 62,
   "metadata": {},
   "outputs": [],
   "source": [
    "xgb = XGBClassifier(objective='binary:logistic', max_depth=5, learning_rate=0.1, gamma=0.1, colsample_bytree=1, min_child_weight=1)"
   ]
  },
  {
   "cell_type": "code",
   "execution_count": 63,
   "metadata": {},
   "outputs": [],
   "source": [
    "history = xgb.fit(X_train, y_train, eval_metric='error')"
   ]
  },
  {
   "cell_type": "code",
   "execution_count": 64,
   "metadata": {},
   "outputs": [],
   "source": [
    "y_score = xgb.predict_proba(X_test)[:,1]"
   ]
  },
  {
   "cell_type": "code",
   "execution_count": 65,
   "metadata": {},
   "outputs": [],
   "source": [
    "from sklearn.metrics import roc_curve, auc, accuracy_score, average_precision_score, precision_recall_curve, plot_precision_recall_curve, classification_report"
   ]
  },
  {
   "cell_type": "code",
   "execution_count": 66,
   "metadata": {},
   "outputs": [],
   "source": [
    "# Calculate the False Positive Rate and True Positive Rate\n",
    "fpr, tpr, _ = roc_curve(y_test, y_score)\n",
    "roc_auc = auc(fpr, tpr)"
   ]
  },
  {
   "cell_type": "code",
   "execution_count": 67,
   "metadata": {},
   "outputs": [
    {
     "data": {
      "text/plain": [
       "<matplotlib.legend.Legend at 0x22602545dc8>"
      ]
     },
     "execution_count": 67,
     "metadata": {},
     "output_type": "execute_result"
    },
    {
     "data": {
      "image/png": "[encoded data removed]",
      "text/plain": [
       "<Figure size 360x360 with 1 Axes>"
      ]
     },
     "metadata": {
      "needs_background": "light"
     },
     "output_type": "display_data"
    }
   ],
   "source": [
    "plt.figure(figsize=(5,5))\n",
    "lw = 2\n",
    "plt.plot(fpr, tpr, color='darkorange', lw=lw, label='ROC curve (area = %0.2f)' % roc_auc)\n",
    "plt.plot([0, 1], [0, 1], color='navy', lw=lw, linestyle='--')\n",
    "plt.xlim([0.0, 1.0])\n",
    "plt.ylim([0.0, 1.05])\n",
    "plt.xlabel('False Positive Rate')\n",
    "plt.ylabel('True Positive Rate')\n",
    "plt.title('Figure 12 - Receiver Operating Characteristic (ROC) Curve')\n",
    "plt.legend(loc=\"lower right\")\n",
    "# plt.savefig(\"Figure 12.png\")"
   ]
  },
  {
   "cell_type": "markdown",
   "metadata": {},
   "source": [
    "Figure 12 shows us that we may be able to produce better results by using a higher probability threshold than simply 50%.  This is because the curve is a little steeper in the bottom left, so in the next section we will see if we can improve our accuracies using a higher probability threshold."
   ]
  },
  {
   "cell_type": "markdown",
   "metadata": {},
   "source": [
    "The accuracy score for our initial 50% threshold:"
   ]
  },
  {
   "cell_type": "code",
   "execution_count": 68,
   "metadata": {},
   "outputs": [
    {
     "name": "stdout",
     "output_type": "stream",
     "text": [
      "              precision    recall  f1-score   support\n",
      "\n",
      "           0       0.88      0.93      0.90       137\n",
      "           1       0.41      0.28      0.33        25\n",
      "\n",
      "    accuracy                           0.83       162\n",
      "   macro avg       0.64      0.60      0.62       162\n",
      "weighted avg       0.80      0.83      0.81       162\n",
      "\n"
     ]
    }
   ],
   "source": [
    "y_pred = np.array(list(map(lambda x: 1 if x>0.50 else 0, y_score)))\n",
    "# print(accuracy_score(y_test,y_pred))\n",
    "print(classification_report(y_test,y_pred))"
   ]
  },
  {
   "cell_type": "markdown",
   "metadata": {},
   "source": [
    "Now a 75% threshold:"
   ]
  },
  {
   "cell_type": "code",
   "execution_count": 69,
   "metadata": {},
   "outputs": [
    {
     "name": "stdout",
     "output_type": "stream",
     "text": [
      "              precision    recall  f1-score   support\n",
      "\n",
      "           0       0.86      0.99      0.92       137\n",
      "           1       0.75      0.12      0.21        25\n",
      "\n",
      "    accuracy                           0.86       162\n",
      "   macro avg       0.81      0.56      0.56       162\n",
      "weighted avg       0.84      0.86      0.81       162\n",
      "\n"
     ]
    }
   ],
   "source": [
    "y_pred = np.array(list(map(lambda x: 1 if x>0.75 else 0, y_score)))\n",
    "print(classification_report(y_test,y_pred))"
   ]
  },
  {
   "cell_type": "markdown",
   "metadata": {},
   "source": [
    "Looking better, but let's try 90%:"
   ]
  },
  {
   "cell_type": "code",
   "execution_count": 70,
   "metadata": {},
   "outputs": [
    {
     "name": "stdout",
     "output_type": "stream",
     "text": [
      "              precision    recall  f1-score   support\n",
      "\n",
      "           0       0.85      1.00      0.92       137\n",
      "           1       1.00      0.04      0.08        25\n",
      "\n",
      "    accuracy                           0.85       162\n",
      "   macro avg       0.93      0.52      0.50       162\n",
      "weighted avg       0.87      0.85      0.79       162\n",
      "\n"
     ]
    }
   ],
   "source": [
    "y_pred = np.array(list(map(lambda x: 1 if x>0.90 else 0, y_score)))\n",
    "print(classification_report(y_test,y_pred))"
   ]
  },
  {
   "cell_type": "markdown",
   "metadata": {},
   "source": [
    "Is 92% a bridge too far?"
   ]
  },
  {
   "cell_type": "code",
   "execution_count": 71,
   "metadata": {},
   "outputs": [
    {
     "name": "stdout",
     "output_type": "stream",
     "text": [
      "              precision    recall  f1-score   support\n",
      "\n",
      "           0       0.85      1.00      0.92       137\n",
      "           1       0.00      0.00      0.00        25\n",
      "\n",
      "    accuracy                           0.85       162\n",
      "   macro avg       0.42      0.50      0.46       162\n",
      "weighted avg       0.72      0.85      0.77       162\n",
      "\n"
     ]
    },
    {
     "name": "stderr",
     "output_type": "stream",
     "text": [
      "C:\\Anaconda3\\lib\\site-packages\\sklearn\\metrics\\_classification.py:1272: UndefinedMetricWarning: Precision and F-score are ill-defined and being set to 0.0 in labels with no predicted samples. Use `zero_division` parameter to control this behavior.\n",
      "  _warn_prf(average, modifier, msg_start, len(result))\n"
     ]
    }
   ],
   "source": [
    "y_pred = np.array(list(map(lambda x: 1 if x>0.92 else 0, y_score)))\n",
    "print(classification_report(y_test,y_pred))"
   ]
  },
  {
   "cell_type": "markdown",
   "metadata": {},
   "source": [
    "It appears that 90% is our sweet spot for a probability threshold"
   ]
  },
  {
   "cell_type": "markdown",
   "metadata": {},
   "source": [
    "## Precision and Recall Performance of Our Model\n",
    "Since looking for a surviving adult male is like finding the perverbial needle in a haystack, the precision and recall scores are actually more important than pure accuracy."
   ]
  },
  {
   "cell_type": "code",
   "execution_count": 72,
   "metadata": {},
   "outputs": [
    {
     "name": "stdout",
     "output_type": "stream",
     "text": [
      "Average precision-recall score: 0.41\n"
     ]
    }
   ],
   "source": [
    "average_precision = average_precision_score(y_test, y_score)\n",
    "print('Average precision-recall score: {0:0.2f}'.format(average_precision))"
   ]
  },
  {
   "cell_type": "code",
   "execution_count": 73,
   "metadata": {},
   "outputs": [
    {
     "data": {
      "text/plain": [
       "Text(0.5, 1.0, 'Figure 13 - 2-class Precision-Recall curve: AP=0.41')"
      ]
     },
     "execution_count": 73,
     "metadata": {},
     "output_type": "execute_result"
    },
    {
     "data": {
      "image/png": "[encoded data removed]",
      "text/plain": [
       "<Figure size 432x288 with 1 Axes>"
      ]
     },
     "metadata": {
      "needs_background": "light"
     },
     "output_type": "display_data"
    }
   ],
   "source": [
    "disp = plot_precision_recall_curve(xgb, X_test, y_test)\n",
    "disp.ax_.set_title('Figure 13 - 2-class Precision-Recall curve: ''AP={0:0.2f}'.format(average_precision))\n",
    "# disp.ax_"
   ]
  },
  {
   "cell_type": "markdown",
   "metadata": {},
   "source": [
    "Figure 13 indicates that our model is not likely to identify many survivors (low recall), but those that it does, are very likely actual survivors (high precision).  "
   ]
  },
  {
   "cell_type": "markdown",
   "metadata": {},
   "source": [
    "## Testing our XGBoost Model Using Cross Validation"
   ]
  },
  {
   "cell_type": "markdown",
   "metadata": {},
   "source": [
    "In this section we will test our model by checking its cross-validation scores."
   ]
  },
  {
   "cell_type": "code",
   "execution_count": 74,
   "metadata": {},
   "outputs": [],
   "source": [
    "from sklearn.model_selection import cross_val_score"
   ]
  },
  {
   "cell_type": "code",
   "execution_count": 75,
   "metadata": {},
   "outputs": [],
   "source": [
    "scores = cross_val_score(xgb, X_men_2feats[['x1','x2']], X_men_2feats['Survived'], cv=10)"
   ]
  },
  {
   "cell_type": "code",
   "execution_count": 76,
   "metadata": {},
   "outputs": [
    {
     "name": "stdout",
     "output_type": "stream",
     "text": [
      "Scores: \n",
      "[0.7962963  0.77777778 0.81481481 0.81481481 0.81481481 0.81481481\n",
      " 0.87037037 0.8490566  0.8490566  0.8490566 ]\n"
     ]
    }
   ],
   "source": [
    "print(\"Scores: \")\n",
    "print(scores)"
   ]
  },
  {
   "cell_type": "code",
   "execution_count": 77,
   "metadata": {},
   "outputs": [
    {
     "name": "stdout",
     "output_type": "stream",
     "text": [
      "Mean cross validation score: 82.51%\n"
     ]
    }
   ],
   "source": [
    "print(f'Mean cross validation score: {scores.mean()*100:0.2f}%')"
   ]
  },
  {
   "cell_type": "markdown",
   "metadata": {},
   "source": [
    "82.51% is a reasonable score, so we will go ahead and prepare our final predictions on the testing data."
   ]
  },
  {
   "cell_type": "markdown",
   "metadata": {},
   "source": [
    "## Extracting Training and Testing Data for Male Survivors"
   ]
  },
  {
   "cell_type": "markdown",
   "metadata": {},
   "source": [
    "Now we will spilt out master dataset into a training and test set, both aligned with the original data sets provided by Kaggle."
   ]
  },
  {
   "cell_type": "code",
   "execution_count": 78,
   "metadata": {},
   "outputs": [],
   "source": [
    "dataB = master[(master['PassengerId'] <= 891) & (master['Title'] == 'man')]\n",
    "dataC = master[(master['PassengerId'] > 891) & (master['Title'] == 'man')]"
   ]
  },
  {
   "cell_type": "code",
   "execution_count": 79,
   "metadata": {},
   "outputs": [],
   "source": [
    "dataTrain = pd.concat([dataB['Survived'].astype(int), dataB['FareAdj']/10, dataB['FamilySize']+(dataB['Age']/70)], axis=1)\n",
    "dataTrain.columns=['Survived', 'x1', 'x2']"
   ]
  },
  {
   "cell_type": "code",
   "execution_count": 80,
   "metadata": {},
   "outputs": [],
   "source": [
    "dataTest = pd.concat([dataC['Survived'], dataC['FareAdj']/10, dataC['FamilySize']+(dataC['Age']/70), dataC['PassengerId']], axis=1)\n",
    "dataTest.columns=['Survived', 'x1', 'x2', 'PassengerId']"
   ]
  },
  {
   "cell_type": "markdown",
   "metadata": {},
   "source": [
    "## Fitting The XGBoost Model To The Test Data"
   ]
  },
  {
   "cell_type": "code",
   "execution_count": 81,
   "metadata": {},
   "outputs": [],
   "source": [
    "xgb = XGBClassifier(objective='binary:logistic', max_depth=4, learning_rate=0.1, gamma=0.1, colsample_bytree=1, min_child_weight=1)"
   ]
  },
  {
   "cell_type": "code",
   "execution_count": 82,
   "metadata": {},
   "outputs": [],
   "source": [
    "history = xgb.fit(dataTrain[['x1','x2']], dataTrain['Survived'], eval_metric='error')"
   ]
  },
  {
   "cell_type": "code",
   "execution_count": 83,
   "metadata": {},
   "outputs": [],
   "source": [
    "y_score = xgb.predict_proba(dataTest[['x1','x2']])[:,1]"
   ]
  },
  {
   "cell_type": "code",
   "execution_count": 84,
   "metadata": {},
   "outputs": [],
   "source": [
    "y_pred = pd.DataFrame(np.array(list(map(lambda x: 1 if x>0.90 else 0, y_score))), index=dataTest.index)\n",
    "y_pred.columns=['Survived']"
   ]
  },
  {
   "cell_type": "markdown",
   "metadata": {},
   "source": [
    "The total number of surviving adult males found by our XGBoost classifier is:"
   ]
  },
  {
   "cell_type": "code",
   "execution_count": 85,
   "metadata": {},
   "outputs": [
    {
     "data": {
      "text/plain": [
       "0"
      ]
     },
     "execution_count": 85,
     "metadata": {},
     "output_type": "execute_result"
    }
   ],
   "source": [
    "sum(y_pred['Survived'])"
   ]
  },
  {
   "cell_type": "markdown",
   "metadata": {},
   "source": [
    "So our super-dooper model has predicted that none of the men in the test data will survive. This was initially a frustrating finding, however this agrees with the findings of some of the highest ranking models completed for this competition to date.  This includes the famous Titanic Megal Model [7]."
   ]
  },
  {
   "cell_type": "markdown",
   "metadata": {},
   "source": [
    "# Women and Children Groups\n",
    "\n",
    "Accepting the tragic findings from the previous section and moving on, we will now focus on finding what we will call Women and Children Groups (WCGs).  In section 2 we identified these groups as the ones most likely to survive.  Thus, we should be able to make fairly accurate predictions based on the assumption that all of these individuals survive with the exception of a few rare members.  Our challenge now is to find these rare members of our WCGs.  We will do this based on the following hypothesis:  \n",
    "* All boys survive in families where all the females and other boys survive\n",
    "* All females perish in families where all the boys and other females perish"
   ]
  },
  {
   "cell_type": "markdown",
   "metadata": {},
   "source": [
    "## Engineering Woman-Child-Groups (WCG)\n",
    "To build our family groups we first start with extracting everyone's family name."
   ]
  },
  {
   "cell_type": "code",
   "execution_count": 86,
   "metadata": {},
   "outputs": [],
   "source": [
    "master['Surname'] = master['Name'].apply(lambda x: x.split(',')[0])"
   ]
  },
  {
   "cell_type": "markdown",
   "metadata": {},
   "source": [
    "Next we create group id's based on Surname, Pclass, Ticket, Fare and Embarked."
   ]
  },
  {
   "cell_type": "code",
   "execution_count": 87,
   "metadata": {},
   "outputs": [],
   "source": [
    "import re"
   ]
  },
  {
   "cell_type": "code",
   "execution_count": 88,
   "metadata": {},
   "outputs": [],
   "source": [
    "master['TicketX'] = master['Ticket'].apply(lambda x: re.sub('.$', 'X', x))"
   ]
  },
  {
   "cell_type": "code",
   "execution_count": 89,
   "metadata": {},
   "outputs": [],
   "source": [
    "x = master[['Surname', 'Pclass', 'TicketX', 'Fare', 'Embarked']].to_string(header=False, index=False, index_names=False).split('\\n')\n",
    "vals = ['-'.join(i.split()) for i in x]"
   ]
  },
  {
   "cell_type": "code",
   "execution_count": 90,
   "metadata": {},
   "outputs": [],
   "source": [
    "master['GroupId'] = vals"
   ]
  },
  {
   "cell_type": "markdown",
   "metadata": {},
   "source": [
    "Since we demonstrated that it was most accurate to assume that all adult males perish, we will lump them into one group."
   ]
  },
  {
   "cell_type": "code",
   "execution_count": 91,
   "metadata": {},
   "outputs": [],
   "source": [
    "master.loc[master['Title'] == 'man', 'GroupId'] = 'NoGroup'"
   ]
  },
  {
   "cell_type": "markdown",
   "metadata": {},
   "source": [
    "We quickly check that we do not have any null values in our GroupIds:"
   ]
  },
  {
   "cell_type": "code",
   "execution_count": 92,
   "metadata": {},
   "outputs": [
    {
     "data": {
      "text/plain": [
       "0"
      ]
     },
     "execution_count": 92,
     "metadata": {},
     "output_type": "execute_result"
    }
   ],
   "source": [
    "master['GroupId'].isnull().sum()"
   ]
  },
  {
   "cell_type": "markdown",
   "metadata": {},
   "source": [
    "## Meet the Wilkes-Richards-Hocking Family\n",
    "Before we move on, there is a documented anomoly in the data regarding the Wilkes-Richards-Hocking family.  We need to address this otherwise this large family will be split into three groups when they were in fact travelling together as one [8]."
   ]
  },
  {
   "cell_type": "code",
   "execution_count": 93,
   "metadata": {},
   "outputs": [
    {
     "data": {
      "text/html": [
       "<div>\n",
       "<style scoped>\n",
       "    .dataframe tbody tr th:only-of-type {\n",
       "        vertical-align: middle;\n",
       "    }\n",
       "\n",
       "    .dataframe tbody tr th {\n",
       "        vertical-align: top;\n",
       "    }\n",
       "\n",
       "    .dataframe thead th {\n",
       "        text-align: right;\n",
       "    }\n",
       "</style>\n",
       "<table border=\"1\" class=\"dataframe\">\n",
       "  <thead>\n",
       "    <tr style=\"text-align: right;\">\n",
       "      <th></th>\n",
       "      <th>PassengerId</th>\n",
       "      <th>Survived</th>\n",
       "      <th>Pclass</th>\n",
       "      <th>Name</th>\n",
       "      <th>Sex</th>\n",
       "      <th>Age</th>\n",
       "      <th>SibSp</th>\n",
       "      <th>Parch</th>\n",
       "      <th>Ticket</th>\n",
       "      <th>Fare</th>\n",
       "      <th>Cabin</th>\n",
       "      <th>Embarked</th>\n",
       "      <th>Title</th>\n",
       "      <th>FamilySize</th>\n",
       "      <th>PartySize</th>\n",
       "      <th>FareAdj</th>\n",
       "      <th>Surname</th>\n",
       "      <th>TicketX</th>\n",
       "      <th>GroupId</th>\n",
       "    </tr>\n",
       "  </thead>\n",
       "  <tbody>\n",
       "    <tr>\n",
       "      <th>774</th>\n",
       "      <td>775</td>\n",
       "      <td>1.0</td>\n",
       "      <td>2</td>\n",
       "      <td>Hocking, Mrs. Elizabeth (Eliza Needs)</td>\n",
       "      <td>female</td>\n",
       "      <td>54.0</td>\n",
       "      <td>1</td>\n",
       "      <td>3</td>\n",
       "      <td>29105</td>\n",
       "      <td>23.0</td>\n",
       "      <td>NaN</td>\n",
       "      <td>S</td>\n",
       "      <td>woman</td>\n",
       "      <td>5</td>\n",
       "      <td>2</td>\n",
       "      <td>11.5</td>\n",
       "      <td>Hocking</td>\n",
       "      <td>2910X</td>\n",
       "      <td>Hocking-2-2910X-23.00000-S</td>\n",
       "    </tr>\n",
       "    <tr>\n",
       "      <th>892</th>\n",
       "      <td>893</td>\n",
       "      <td>NaN</td>\n",
       "      <td>3</td>\n",
       "      <td>Wilkes, Mrs. James (Ellen Needs)</td>\n",
       "      <td>female</td>\n",
       "      <td>47.0</td>\n",
       "      <td>1</td>\n",
       "      <td>0</td>\n",
       "      <td>363272</td>\n",
       "      <td>7.0</td>\n",
       "      <td>NaN</td>\n",
       "      <td>S</td>\n",
       "      <td>woman</td>\n",
       "      <td>2</td>\n",
       "      <td>1</td>\n",
       "      <td>7.0</td>\n",
       "      <td>Wilkes</td>\n",
       "      <td>36327X</td>\n",
       "      <td>Wilkes-3-36327X-7.00000-S</td>\n",
       "    </tr>\n",
       "  </tbody>\n",
       "</table>\n",
       "</div>"
      ],
      "text/plain": [
       "     PassengerId  Survived  Pclass                                   Name  \\\n",
       "774          775       1.0       2  Hocking, Mrs. Elizabeth (Eliza Needs)   \n",
       "892          893       NaN       3       Wilkes, Mrs. James (Ellen Needs)   \n",
       "\n",
       "        Sex   Age  SibSp  Parch  Ticket  Fare Cabin Embarked  Title  \\\n",
       "774  female  54.0      1      3   29105  23.0   NaN        S  woman   \n",
       "892  female  47.0      1      0  363272   7.0   NaN        S  woman   \n",
       "\n",
       "     FamilySize  PartySize  FareAdj  Surname TicketX  \\\n",
       "774           5          2     11.5  Hocking   2910X   \n",
       "892           2          1      7.0   Wilkes  36327X   \n",
       "\n",
       "                        GroupId  \n",
       "774  Hocking-2-2910X-23.00000-S  \n",
       "892   Wilkes-3-36327X-7.00000-S  "
      ]
     },
     "execution_count": 93,
     "metadata": {},
     "output_type": "execute_result"
    }
   ],
   "source": [
    "master.loc[master['Name'].apply(lambda x: 'Needs' in x)]"
   ]
  },
  {
   "cell_type": "code",
   "execution_count": 94,
   "metadata": {},
   "outputs": [],
   "source": [
    "master.loc[892, 'GroupId'] = master.loc[774, 'GroupId']"
   ]
  },
  {
   "cell_type": "code",
   "execution_count": 95,
   "metadata": {},
   "outputs": [],
   "source": [
    "master.loc[master.GroupId=='Richards-2-2910X-18.75000-S','GroupId'] = 'Hocking-2-2910X-23.00000-S'"
   ]
  },
  {
   "cell_type": "code",
   "execution_count": 96,
   "metadata": {},
   "outputs": [],
   "source": [
    "master.loc[529,'GroupId'] = 'Hocking-2-2910X-23.00000-S'"
   ]
  },
  {
   "cell_type": "code",
   "execution_count": 97,
   "metadata": {},
   "outputs": [
    {
     "data": {
      "text/html": [
       "<div>\n",
       "<style scoped>\n",
       "    .dataframe tbody tr th:only-of-type {\n",
       "        vertical-align: middle;\n",
       "    }\n",
       "\n",
       "    .dataframe tbody tr th {\n",
       "        vertical-align: top;\n",
       "    }\n",
       "\n",
       "    .dataframe thead th {\n",
       "        text-align: right;\n",
       "    }\n",
       "</style>\n",
       "<table border=\"1\" class=\"dataframe\">\n",
       "  <thead>\n",
       "    <tr style=\"text-align: right;\">\n",
       "      <th></th>\n",
       "      <th>PassengerId</th>\n",
       "      <th>Survived</th>\n",
       "      <th>Pclass</th>\n",
       "      <th>Name</th>\n",
       "      <th>Sex</th>\n",
       "      <th>Age</th>\n",
       "      <th>SibSp</th>\n",
       "      <th>Parch</th>\n",
       "      <th>Ticket</th>\n",
       "      <th>Fare</th>\n",
       "      <th>Cabin</th>\n",
       "      <th>Embarked</th>\n",
       "      <th>Title</th>\n",
       "      <th>FamilySize</th>\n",
       "      <th>PartySize</th>\n",
       "      <th>FareAdj</th>\n",
       "      <th>Surname</th>\n",
       "      <th>TicketX</th>\n",
       "      <th>GroupId</th>\n",
       "    </tr>\n",
       "  </thead>\n",
       "  <tbody>\n",
       "    <tr>\n",
       "      <th>407</th>\n",
       "      <td>408</td>\n",
       "      <td>1.0</td>\n",
       "      <td>2</td>\n",
       "      <td>Richards, Master. William Rowe</td>\n",
       "      <td>male</td>\n",
       "      <td>3.00</td>\n",
       "      <td>1</td>\n",
       "      <td>1</td>\n",
       "      <td>29106</td>\n",
       "      <td>18.75</td>\n",
       "      <td>NaN</td>\n",
       "      <td>S</td>\n",
       "      <td>boy</td>\n",
       "      <td>3</td>\n",
       "      <td>3</td>\n",
       "      <td>6.25</td>\n",
       "      <td>Richards</td>\n",
       "      <td>2910X</td>\n",
       "      <td>Hocking-2-2910X-23.00000-S</td>\n",
       "    </tr>\n",
       "    <tr>\n",
       "      <th>437</th>\n",
       "      <td>438</td>\n",
       "      <td>1.0</td>\n",
       "      <td>2</td>\n",
       "      <td>Richards, Mrs. Sidney (Emily Hocking)</td>\n",
       "      <td>female</td>\n",
       "      <td>24.00</td>\n",
       "      <td>2</td>\n",
       "      <td>3</td>\n",
       "      <td>29106</td>\n",
       "      <td>18.75</td>\n",
       "      <td>NaN</td>\n",
       "      <td>S</td>\n",
       "      <td>woman</td>\n",
       "      <td>6</td>\n",
       "      <td>3</td>\n",
       "      <td>6.25</td>\n",
       "      <td>Richards</td>\n",
       "      <td>2910X</td>\n",
       "      <td>Hocking-2-2910X-23.00000-S</td>\n",
       "    </tr>\n",
       "    <tr>\n",
       "      <th>529</th>\n",
       "      <td>530</td>\n",
       "      <td>0.0</td>\n",
       "      <td>2</td>\n",
       "      <td>Hocking, Mr. Richard George</td>\n",
       "      <td>male</td>\n",
       "      <td>23.00</td>\n",
       "      <td>2</td>\n",
       "      <td>1</td>\n",
       "      <td>29104</td>\n",
       "      <td>11.50</td>\n",
       "      <td>NaN</td>\n",
       "      <td>S</td>\n",
       "      <td>man</td>\n",
       "      <td>4</td>\n",
       "      <td>1</td>\n",
       "      <td>11.50</td>\n",
       "      <td>Hocking</td>\n",
       "      <td>2910X</td>\n",
       "      <td>Hocking-2-2910X-23.00000-S</td>\n",
       "    </tr>\n",
       "    <tr>\n",
       "      <th>774</th>\n",
       "      <td>775</td>\n",
       "      <td>1.0</td>\n",
       "      <td>2</td>\n",
       "      <td>Hocking, Mrs. Elizabeth (Eliza Needs)</td>\n",
       "      <td>female</td>\n",
       "      <td>54.00</td>\n",
       "      <td>1</td>\n",
       "      <td>3</td>\n",
       "      <td>29105</td>\n",
       "      <td>23.00</td>\n",
       "      <td>NaN</td>\n",
       "      <td>S</td>\n",
       "      <td>woman</td>\n",
       "      <td>5</td>\n",
       "      <td>2</td>\n",
       "      <td>11.50</td>\n",
       "      <td>Hocking</td>\n",
       "      <td>2910X</td>\n",
       "      <td>Hocking-2-2910X-23.00000-S</td>\n",
       "    </tr>\n",
       "    <tr>\n",
       "      <th>831</th>\n",
       "      <td>832</td>\n",
       "      <td>1.0</td>\n",
       "      <td>2</td>\n",
       "      <td>Richards, Master. George Sibley</td>\n",
       "      <td>male</td>\n",
       "      <td>0.83</td>\n",
       "      <td>1</td>\n",
       "      <td>1</td>\n",
       "      <td>29106</td>\n",
       "      <td>18.75</td>\n",
       "      <td>NaN</td>\n",
       "      <td>S</td>\n",
       "      <td>boy</td>\n",
       "      <td>3</td>\n",
       "      <td>3</td>\n",
       "      <td>6.25</td>\n",
       "      <td>Richards</td>\n",
       "      <td>2910X</td>\n",
       "      <td>Hocking-2-2910X-23.00000-S</td>\n",
       "    </tr>\n",
       "    <tr>\n",
       "      <th>892</th>\n",
       "      <td>893</td>\n",
       "      <td>NaN</td>\n",
       "      <td>3</td>\n",
       "      <td>Wilkes, Mrs. James (Ellen Needs)</td>\n",
       "      <td>female</td>\n",
       "      <td>47.00</td>\n",
       "      <td>1</td>\n",
       "      <td>0</td>\n",
       "      <td>363272</td>\n",
       "      <td>7.00</td>\n",
       "      <td>NaN</td>\n",
       "      <td>S</td>\n",
       "      <td>woman</td>\n",
       "      <td>2</td>\n",
       "      <td>1</td>\n",
       "      <td>7.00</td>\n",
       "      <td>Wilkes</td>\n",
       "      <td>36327X</td>\n",
       "      <td>Hocking-2-2910X-23.00000-S</td>\n",
       "    </tr>\n",
       "    <tr>\n",
       "      <th>943</th>\n",
       "      <td>944</td>\n",
       "      <td>NaN</td>\n",
       "      <td>2</td>\n",
       "      <td>Hocking, Miss. Ellen Nellie\"\"</td>\n",
       "      <td>female</td>\n",
       "      <td>20.00</td>\n",
       "      <td>2</td>\n",
       "      <td>1</td>\n",
       "      <td>29105</td>\n",
       "      <td>23.00</td>\n",
       "      <td>NaN</td>\n",
       "      <td>S</td>\n",
       "      <td>woman</td>\n",
       "      <td>4</td>\n",
       "      <td>2</td>\n",
       "      <td>11.50</td>\n",
       "      <td>Hocking</td>\n",
       "      <td>2910X</td>\n",
       "      <td>Hocking-2-2910X-23.00000-S</td>\n",
       "    </tr>\n",
       "  </tbody>\n",
       "</table>\n",
       "</div>"
      ],
      "text/plain": [
       "     PassengerId  Survived  Pclass                                   Name  \\\n",
       "407          408       1.0       2         Richards, Master. William Rowe   \n",
       "437          438       1.0       2  Richards, Mrs. Sidney (Emily Hocking)   \n",
       "529          530       0.0       2            Hocking, Mr. Richard George   \n",
       "774          775       1.0       2  Hocking, Mrs. Elizabeth (Eliza Needs)   \n",
       "831          832       1.0       2        Richards, Master. George Sibley   \n",
       "892          893       NaN       3       Wilkes, Mrs. James (Ellen Needs)   \n",
       "943          944       NaN       2          Hocking, Miss. Ellen Nellie\"\"   \n",
       "\n",
       "        Sex    Age  SibSp  Parch  Ticket   Fare Cabin Embarked  Title  \\\n",
       "407    male   3.00      1      1   29106  18.75   NaN        S    boy   \n",
       "437  female  24.00      2      3   29106  18.75   NaN        S  woman   \n",
       "529    male  23.00      2      1   29104  11.50   NaN        S    man   \n",
       "774  female  54.00      1      3   29105  23.00   NaN        S  woman   \n",
       "831    male   0.83      1      1   29106  18.75   NaN        S    boy   \n",
       "892  female  47.00      1      0  363272   7.00   NaN        S  woman   \n",
       "943  female  20.00      2      1   29105  23.00   NaN        S  woman   \n",
       "\n",
       "     FamilySize  PartySize  FareAdj   Surname TicketX  \\\n",
       "407           3          3     6.25  Richards   2910X   \n",
       "437           6          3     6.25  Richards   2910X   \n",
       "529           4          1    11.50   Hocking   2910X   \n",
       "774           5          2    11.50   Hocking   2910X   \n",
       "831           3          3     6.25  Richards   2910X   \n",
       "892           2          1     7.00    Wilkes  36327X   \n",
       "943           4          2    11.50   Hocking   2910X   \n",
       "\n",
       "                        GroupId  \n",
       "407  Hocking-2-2910X-23.00000-S  \n",
       "437  Hocking-2-2910X-23.00000-S  \n",
       "529  Hocking-2-2910X-23.00000-S  \n",
       "774  Hocking-2-2910X-23.00000-S  \n",
       "831  Hocking-2-2910X-23.00000-S  \n",
       "892  Hocking-2-2910X-23.00000-S  \n",
       "943  Hocking-2-2910X-23.00000-S  "
      ]
     },
     "execution_count": 97,
     "metadata": {},
     "output_type": "execute_result"
    }
   ],
   "source": [
    "master.loc[master.GroupId=='Hocking-2-2910X-23.00000-S']"
   ]
  },
  {
   "cell_type": "markdown",
   "metadata": {},
   "source": [
    "## WCG Final Engineering\n",
    "We can now compute the number of members in each group."
   ]
  },
  {
   "cell_type": "code",
   "execution_count": 98,
   "metadata": {},
   "outputs": [],
   "source": [
    "master['GroupFreq'] = master['GroupId'].value_counts()[master.loc[:,'GroupId']].values"
   ]
  },
  {
   "cell_type": "code",
   "execution_count": 99,
   "metadata": {},
   "outputs": [],
   "source": [
    "master.loc[master['GroupFreq'] == 1, 'GroupId'] = 'NoGroup'"
   ]
  },
  {
   "cell_type": "code",
   "execution_count": 100,
   "metadata": {},
   "outputs": [],
   "source": [
    "master['GroupFreq'] = master['GroupId'].value_counts()[master.loc[:,'GroupId']].values"
   ]
  },
  {
   "cell_type": "markdown",
   "metadata": {},
   "source": [
    "Let's check how many WCG's are there so far:"
   ]
  },
  {
   "cell_type": "code",
   "execution_count": 101,
   "metadata": {},
   "outputs": [
    {
     "data": {
      "text/plain": [
       "79"
      ]
     },
     "execution_count": 101,
     "metadata": {},
     "output_type": "execute_result"
    }
   ],
   "source": [
    "master['GroupId'].nunique()-1 # We don't count NoGroup"
   ]
  },
  {
   "cell_type": "markdown",
   "metadata": {},
   "source": [
    "Next we will try to find the nanny's and other relatives that travelled together but had different ticket numbers. We can do this by creating a new features called TicketId, which is a concatenation of Ticket, Pclass, Fare and Embarked."
   ]
  },
  {
   "cell_type": "code",
   "execution_count": 102,
   "metadata": {},
   "outputs": [],
   "source": [
    "x = master[['Pclass', 'TicketX', 'Fare', 'Embarked']].to_string(header=False, index=False, index_names=False).split('\\n')\n",
    "master['TicketId'] = ['-'.join(i.split()) for i in x]"
   ]
  },
  {
   "cell_type": "code",
   "execution_count": 103,
   "metadata": {},
   "outputs": [],
   "source": [
    "idx = master.query('Title != \"man\" and GroupId == \"NoGroup\"').index"
   ]
  },
  {
   "cell_type": "code",
   "execution_count": 104,
   "metadata": {},
   "outputs": [
    {
     "name": "stdout",
     "output_type": "stream",
     "text": [
      "Current number of single women and boys:  307\n"
     ]
    }
   ],
   "source": [
    "print(\"Current number of single women and boys: \", len(idx))"
   ]
  },
  {
   "cell_type": "code",
   "execution_count": 105,
   "metadata": {},
   "outputs": [],
   "source": [
    "for i in idx:\n",
    "    z = master['GroupId'][master['TicketId'] == master['TicketId'][i]]\n",
    "    q = [j for j in z if j != \"NoGroup\"]\n",
    "    if len(q) > 0:\n",
    "        master.loc[i,'GroupId'] = q[0]"
   ]
  },
  {
   "cell_type": "code",
   "execution_count": 106,
   "metadata": {},
   "outputs": [
    {
     "name": "stdout",
     "output_type": "stream",
     "text": [
      "Number of nannies and other female relatives found and added to their repsective families:  11\n"
     ]
    }
   ],
   "source": [
    "print(\"Number of nannies and other female relatives found and added to their repsective families: \",\n",
    "      len(idx) - len(master.query('Title != \"man\" and GroupId == \"NoGroup\"').index) )"
   ]
  },
  {
   "cell_type": "markdown",
   "metadata": {},
   "source": [
    "Now Let's calcualte the group survival rates:"
   ]
  },
  {
   "cell_type": "code",
   "execution_count": 107,
   "metadata": {},
   "outputs": [],
   "source": [
    "master['GroupSurvival'] = master.groupby('GroupId')['Survived'].mean()[master.loc[:,'GroupId']].values"
   ]
  },
  {
   "cell_type": "code",
   "execution_count": 108,
   "metadata": {},
   "outputs": [
    {
     "data": {
      "text/plain": [
       "0.337875    1077\n",
       "1.000000     129\n",
       "0.000000      76\n",
       "0.800000       7\n",
       "0.750000       6\n",
       "0.500000       5\n",
       "Name: GroupSurvival, dtype: int64"
      ]
     },
     "execution_count": 108,
     "metadata": {},
     "output_type": "execute_result"
    }
   ],
   "source": [
    "master['GroupSurvival'].value_counts()"
   ]
  },
  {
   "cell_type": "markdown",
   "metadata": {},
   "source": [
    "How many WCG's have we missed?"
   ]
  },
  {
   "cell_type": "code",
   "execution_count": 109,
   "metadata": {},
   "outputs": [
    {
     "data": {
      "text/plain": [
       "9"
      ]
     },
     "execution_count": 109,
     "metadata": {},
     "output_type": "execute_result"
    }
   ],
   "source": [
    "master.query('GroupSurvival == \"NaN\"')['Name'].count()"
   ]
  },
  {
   "cell_type": "markdown",
   "metadata": {},
   "source": [
    "We will sssume that any ungrouped third class passengers perished."
   ]
  },
  {
   "cell_type": "code",
   "execution_count": 110,
   "metadata": {},
   "outputs": [],
   "source": [
    "idx = master.query('GroupSurvival == \"NaN\" and Pclass == 3').index\n",
    "master.loc[idx, 'GroupSurvival'] = 0"
   ]
  },
  {
   "cell_type": "markdown",
   "metadata": {},
   "source": [
    "We will also assume that any ungrouped first class passengers survived."
   ]
  },
  {
   "cell_type": "code",
   "execution_count": 111,
   "metadata": {},
   "outputs": [],
   "source": [
    "idx = master.query('GroupSurvival == \"NaN\" and Pclass == 1').index\n",
    "master.loc[idx, 'GroupSurvival'] = 1"
   ]
  },
  {
   "cell_type": "code",
   "execution_count": 112,
   "metadata": {},
   "outputs": [
    {
     "data": {
      "text/plain": [
       "0.337875    1077\n",
       "1.000000     131\n",
       "0.000000      83\n",
       "0.800000       7\n",
       "0.750000       6\n",
       "0.500000       5\n",
       "Name: GroupSurvival, dtype: int64"
      ]
     },
     "execution_count": 112,
     "metadata": {},
     "output_type": "execute_result"
    }
   ],
   "source": [
    "master['GroupSurvival'].value_counts()"
   ]
  },
  {
   "cell_type": "markdown",
   "metadata": {},
   "source": [
    "Tragically we can see above that there were 83 entire families/groups that all perished together.  "
   ]
  },
  {
   "cell_type": "markdown",
   "metadata": {},
   "source": [
    "## Getting Ready to Make Our First Kaggle Submission\n",
    "Based on our extensive EDA in Section 2.0 and the results of Seciont 3.0, we will start with the base predictions that:\n",
    "* All males perish\n",
    "* All females survive\n",
    "\n",
    "Then, we will refine this with the assumptions that:\n",
    "* No women survived if their group did not survive\n",
    "* Boys survived if the rest of their family did"
   ]
  },
  {
   "cell_type": "code",
   "execution_count": 113,
   "metadata": {},
   "outputs": [],
   "source": [
    "master['Predict'] = 0 "
   ]
  },
  {
   "cell_type": "code",
   "execution_count": 114,
   "metadata": {},
   "outputs": [],
   "source": [
    "master.loc[master.Sex ==\"female\", 'Predict'] = 1"
   ]
  },
  {
   "cell_type": "code",
   "execution_count": 115,
   "metadata": {},
   "outputs": [],
   "source": [
    "idx = master.query('Title == \"woman\" and GroupSurvival == 0').index\n",
    "master.loc[idx, 'Predict'] = 0"
   ]
  },
  {
   "cell_type": "code",
   "execution_count": 116,
   "metadata": {},
   "outputs": [],
   "source": [
    "idx = master.query('Title == \"boy\" and GroupSurvival == 1').index\n",
    "master.loc[idx, 'Predict'] = 1"
   ]
  },
  {
   "cell_type": "markdown",
   "metadata": {},
   "source": [
    "Here is our list of boys predicted to live:"
   ]
  },
  {
   "cell_type": "code",
   "execution_count": 117,
   "metadata": {},
   "outputs": [
    {
     "data": {
      "text/plain": [
       "955         Ryerson, Master. John Borie\n",
       "980         Wells, Master. Ralph Lester\n",
       "1052     Touma, Master. Georges Youssef\n",
       "1085      Drew, Master. Marshall Brines\n",
       "1087    Spedden, Master. Robert Douglas\n",
       "1198          Aks, Master. Philip Frank\n",
       "1283      Abbott, Master. Eugene Joseph\n",
       "1308           Peter, Master. Michael J\n",
       "Name: Name, dtype: object"
      ]
     },
     "execution_count": 117,
     "metadata": {},
     "output_type": "execute_result"
    }
   ],
   "source": [
    "master.query('Sex == \"male\" and Predict == 1 and PassengerId > 891')['Name']"
   ]
  },
  {
   "cell_type": "markdown",
   "metadata": {},
   "source": [
    "Here is our list of women Predicted to perish:"
   ]
  },
  {
   "cell_type": "code",
   "execution_count": 118,
   "metadata": {},
   "outputs": [
    {
     "data": {
      "text/plain": [
       "909                          Ilmakangas, Miss. Ida Livija\n",
       "924     Johnston, Mrs. Andrew G (Elizabeth Lily\" Watson)\"\n",
       "928                                    Cacic, Miss. Manda\n",
       "1023                        Lefebre, Mrs. Frank (Frances)\n",
       "1031                          Goodwin, Miss. Jessie Allis\n",
       "1044       Klasen, Mrs. (Hulda Kristina Eugenia Lofqvist)\n",
       "1050                  Peacock, Mrs. Benjamin (Edith Nile)\n",
       "1079                                      Sage, Miss. Ada\n",
       "1140            Khalil, Mrs. Betros (Zahie Maria\" Elias)\"\n",
       "1154                         Klasen, Miss. Gertrud Emilia\n",
       "1171                               Oreskovic, Miss. Jelka\n",
       "1175                          Rosblom, Miss. Salli Helena\n",
       "1256                       Sage, Mrs. John (Annie Bullen)\n",
       "1258         Riihivouri, Miss. Susanna Juhantytar Sanni\"\"\n",
       "1300                            Peacock, Miss. Treasteall\n",
       "Name: Name, dtype: object"
      ]
     },
     "execution_count": 118,
     "metadata": {},
     "output_type": "execute_result"
    }
   ],
   "source": [
    "master.query('Sex == \"female\" and Predict == 0 and PassengerId > 891')['Name']"
   ]
  },
  {
   "cell_type": "markdown",
   "metadata": {},
   "source": [
    "Create our submission"
   ]
  },
  {
   "cell_type": "code",
   "execution_count": 119,
   "metadata": {},
   "outputs": [],
   "source": [
    "submission = master.loc[891:, ['PassengerId', 'Predict']]"
   ]
  },
  {
   "cell_type": "code",
   "execution_count": 120,
   "metadata": {},
   "outputs": [],
   "source": [
    "submission.reset_index(drop=True, inplace=True)"
   ]
  },
  {
   "cell_type": "code",
   "execution_count": 121,
   "metadata": {},
   "outputs": [],
   "source": [
    "submission.rename(columns={'Predict':'Survived'}, inplace=True)"
   ]
  },
  {
   "cell_type": "code",
   "execution_count": 122,
   "metadata": {},
   "outputs": [],
   "source": [
    "#submission.to_csv('2020-03-30_WCG.csv', index=False)"
   ]
  },
  {
   "cell_type": "markdown",
   "metadata": {},
   "source": [
    "## First Results\n",
    "The result of our first submission is 0.83732 which indicates that we are on the right track, but there is likely much improvement to be made.  In the next section we will look at the other rare group of individuals to find, and that is of single women who perished in the disaster. "
   ]
  },
  {
   "cell_type": "markdown",
   "metadata": {},
   "source": [
    "# All the Single Ladies"
   ]
  },
  {
   "cell_type": "markdown",
   "metadata": {},
   "source": [
    "## Single Women of Indeterminate Survival\n",
    "In this section we will use an ensemble method to identify single women who do not surive.  First we will generate a couple of DataFrames which contain a subset of the master training and testing data, but only for women who were not part of groups either entirely perished or entirely survived."
   ]
  },
  {
   "cell_type": "code",
   "execution_count": 123,
   "metadata": {},
   "outputs": [],
   "source": [
    "# Groups in the training data who either all survived or all perished\n",
    "WCGtrain = master.query('PassengerId<=891 and (GroupSurvival==0 or GroupSurvival==1)')\n",
    "# Groups in test data who either all survived or all perished\n",
    "WCGtest = master.query('PassengerId>891 and (GroupSurvival==0 or GroupSurvival==1)')"
   ]
  },
  {
   "cell_type": "code",
   "execution_count": 124,
   "metadata": {},
   "outputs": [],
   "source": [
    "# Single Women in the trainign set\n",
    "dataB = master.query('PassengerId<=891 and Title==\"woman\" and FamilySize==1')\n",
    "# Single Women in the test set\n",
    "dataC = master.query('PassengerId>891 and Title==\"woman\" and FamilySize==1')"
   ]
  },
  {
   "cell_type": "code",
   "execution_count": 125,
   "metadata": {},
   "outputs": [
    {
     "name": "stderr",
     "output_type": "stream",
     "text": [
      "C:\\Anaconda3\\lib\\site-packages\\pandas\\core\\frame.py:3997: SettingWithCopyWarning: \n",
      "A value is trying to be set on a copy of a slice from a DataFrame\n",
      "\n",
      "See the caveats in the documentation: https://pandas.pydata.org/pandas-docs/stable/user_guide/indexing.html#returning-a-view-versus-a-copy\n",
      "  errors=errors,\n"
     ]
    }
   ],
   "source": [
    "# Drop women from the test set who belonged to groups that either entirely survived or entirely perished\n",
    "Cset = set(dataC.index)\n",
    "WCGset = set(WCGtest.index)\n",
    "drop_list = list(Cset & WCGset)\n",
    "#drop_list\n",
    "dataC.drop(drop_list, inplace=True, axis=0)"
   ]
  },
  {
   "cell_type": "code",
   "execution_count": 126,
   "metadata": {},
   "outputs": [],
   "source": [
    "y = dataB['Survived']\n",
    "x1 = dataB['FareAdj']/10\n",
    "x2 = dataB['Age']/15\n",
    "PassId = dataB['PassengerId']\n",
    "Pclass = dataB['Pclass']\n",
    "dataTrain = pd.concat([y,x1,x2,PassId,Pclass], axis=1)\n",
    "dataTrain.columns=['Survived', 'x1','x2','PassengerId','Pclass']"
   ]
  },
  {
   "cell_type": "code",
   "execution_count": 127,
   "metadata": {},
   "outputs": [],
   "source": [
    "y = dataC['Survived']\n",
    "x1 = dataC['FareAdj']/10\n",
    "x2 = dataC['Age']/15\n",
    "PassId = dataC['PassengerId']\n",
    "Pclass = dataC['Pclass']\n",
    "dataTest = pd.concat([y,x1,x2,PassId,Pclass], axis=1)\n",
    "dataTest.columns=['Survived', 'x1','x2','PassengerId','Pclass']"
   ]
  },
  {
   "cell_type": "markdown",
   "metadata": {},
   "source": [
    "## Using an Ensemble to Find the Lost Ladies\n",
    "We have decided to use an ensemble consisting of the following models:\n",
    "* Logistic Regression\n",
    "* Random Forest Classifier\n",
    "* Support Vector Machines Classifier (SVC)\n",
    "* Decision Tree Classifier \n",
    "* K-Nearest Neighbours"
   ]
  },
  {
   "cell_type": "code",
   "execution_count": 128,
   "metadata": {},
   "outputs": [],
   "source": [
    "from sklearn import model_selection\n",
    "from sklearn.linear_model import LogisticRegression\n",
    "from sklearn.svm import SVC\n",
    "from sklearn.naive_bayes import GaussianNB \n",
    "from sklearn.ensemble import RandomForestClassifier, VotingClassifier\n",
    "from sklearn.tree import DecisionTreeClassifier\n",
    "from sklearn.neighbors import KNeighborsClassifier"
   ]
  },
  {
   "cell_type": "code",
   "execution_count": 129,
   "metadata": {},
   "outputs": [],
   "source": [
    "clf1 = LogisticRegression(random_state=1)\n",
    "clf2 = RandomForestClassifier(random_state=1)\n",
    "clf3 = SVC(probability=True, random_state=1)\n",
    "clf4 = DecisionTreeClassifier(max_depth=2)\n",
    "clf5 = KNeighborsClassifier(n_neighbors=3)"
   ]
  },
  {
   "cell_type": "code",
   "execution_count": 130,
   "metadata": {},
   "outputs": [],
   "source": [
    "eclf_hard = VotingClassifier(estimators=[('lr', clf1), ('rf', clf2), ('svc', clf3), ('dtc', clf4), ('knn', clf5)], voting='hard', weights=[0.6,0.6,0.6,0.9,1])"
   ]
  },
  {
   "cell_type": "code",
   "execution_count": 131,
   "metadata": {},
   "outputs": [],
   "source": [
    "eclf_soft = VotingClassifier(estimators=[('lr', clf1), ('rf', clf2), ('svc', clf3), ('dtc', clf4), ('knn', clf5)], voting='soft', weights=[0.6,0.6,0.6,0.9,1])"
   ]
  },
  {
   "cell_type": "code",
   "execution_count": 132,
   "metadata": {},
   "outputs": [],
   "source": [
    "classifiers = ['Logistic Regression', 'Random Forest', 'SVM', 'DecisionTree', 'KNN', 'HardVoteEnsemble', 'SoftVoteEnsemble']"
   ]
  },
  {
   "cell_type": "markdown",
   "metadata": {},
   "source": [
    "We will check the quality of our ensemble model by checking the cross-validation scores and then use these scores to tune the weights applied to the votes for each model."
   ]
  },
  {
   "cell_type": "code",
   "execution_count": 133,
   "metadata": {},
   "outputs": [
    {
     "name": "stdout",
     "output_type": "stream",
     "text": [
      "\n",
      "5-fold cross validation:\n",
      "\tAccuracy: 0.78 [Logistic Regression]\n",
      "\tAccuracy: 0.79 [Random Forest]\n",
      "\tAccuracy: 0.79 [SVM]\n",
      "\tAccuracy: 0.83 [DecisionTree]\n",
      "\tAccuracy: 0.83 [KNN]\n",
      "\tAccuracy: 0.83 [HardVoteEnsemble]\n",
      "\tAccuracy: 0.82 [SoftVoteEnsemble]\n"
     ]
    }
   ],
   "source": [
    "print('\\n5-fold cross validation:')\n",
    "for clf, label in zip([clf1, clf2, clf3, clf4, clf5, eclf_hard, eclf_soft], classifiers):\n",
    "    scores = model_selection.cross_val_score(clf, dataTrain[['x1','x2','Pclass']], dataTrain['Survived'], cv=5, scoring='accuracy')\n",
    "    print(f\"\\tAccuracy: {scores.mean():0.2f} [{label}]\")"
   ]
  },
  {
   "cell_type": "markdown",
   "metadata": {},
   "source": [
    "After tuning the voting weights, the above cross-validation scores appear acceptable.  Because we want to be able to also tune the probability threshold for our predictions, we will use the soft voting ensemble to make our predictions."
   ]
  },
  {
   "cell_type": "code",
   "execution_count": 134,
   "metadata": {},
   "outputs": [
    {
     "data": {
      "text/plain": [
       "VotingClassifier(estimators=[('lr',\n",
       "                              LogisticRegression(C=1.0, class_weight=None,\n",
       "                                                 dual=False, fit_intercept=True,\n",
       "                                                 intercept_scaling=1,\n",
       "                                                 l1_ratio=None, max_iter=100,\n",
       "                                                 multi_class='auto',\n",
       "                                                 n_jobs=None, penalty='l2',\n",
       "                                                 random_state=1, solver='lbfgs',\n",
       "                                                 tol=0.0001, verbose=0,\n",
       "                                                 warm_start=False)),\n",
       "                             ('rf',\n",
       "                              RandomForestClassifier(bootstrap=True,\n",
       "                                                     ccp_alpha=0.0,\n",
       "                                                     class_weight=None,\n",
       "                                                     crite...\n",
       "                                                     min_impurity_split=None,\n",
       "                                                     min_samples_leaf=1,\n",
       "                                                     min_samples_split=2,\n",
       "                                                     min_weight_fraction_leaf=0.0,\n",
       "                                                     presort='deprecated',\n",
       "                                                     random_state=None,\n",
       "                                                     splitter='best')),\n",
       "                             ('knn',\n",
       "                              KNeighborsClassifier(algorithm='auto',\n",
       "                                                   leaf_size=30,\n",
       "                                                   metric='minkowski',\n",
       "                                                   metric_params=None,\n",
       "                                                   n_jobs=None, n_neighbors=3,\n",
       "                                                   p=2, weights='uniform'))],\n",
       "                 flatten_transform=True, n_jobs=None, voting='soft',\n",
       "                 weights=[0.6, 0.6, 0.6, 0.9, 1])"
      ]
     },
     "execution_count": 134,
     "metadata": {},
     "output_type": "execute_result"
    }
   ],
   "source": [
    "eclf_soft.fit(dataTrain[['x1','x2','Pclass']], dataTrain['Survived'])"
   ]
  },
  {
   "cell_type": "code",
   "execution_count": 135,
   "metadata": {},
   "outputs": [],
   "source": [
    "y_score = eclf_soft.predict_proba(dataTest[['x1','x2','Pclass']])[:,1]"
   ]
  },
  {
   "cell_type": "code",
   "execution_count": 136,
   "metadata": {},
   "outputs": [],
   "source": [
    "# Apply a threshold function to tune the predictions \n",
    "y_pred = pd.DataFrame(np.array(list(map(lambda x: 0 if x<=0.30 else 1, y_score))), index=dataTest.index)\n",
    "y_pred.columns=['Survived']"
   ]
  },
  {
   "cell_type": "markdown",
   "metadata": {},
   "source": [
    "## Preparing Our Second Submission to Kaggle\n",
    "We will now try to improve on our performance in Section 5 by updating the survival predictions for single women based on the results of our ensemble."
   ]
  },
  {
   "cell_type": "code",
   "execution_count": 137,
   "metadata": {},
   "outputs": [],
   "source": [
    "dataTest['Survived'] = y_pred['Survived']"
   ]
  },
  {
   "cell_type": "code",
   "execution_count": 138,
   "metadata": {},
   "outputs": [],
   "source": [
    "fatal_idx = dataTest.loc[dataTest.Survived == 0].index"
   ]
  },
  {
   "cell_type": "code",
   "execution_count": 139,
   "metadata": {},
   "outputs": [],
   "source": [
    "master2 = master.copy()"
   ]
  },
  {
   "cell_type": "code",
   "execution_count": 140,
   "metadata": {},
   "outputs": [],
   "source": [
    "master2.loc[fatal_idx,'Predict'] = 0"
   ]
  },
  {
   "cell_type": "code",
   "execution_count": 141,
   "metadata": {},
   "outputs": [],
   "source": [
    "fatal_ids = master2.loc[fatal_idx,'PassengerId'].values"
   ]
  },
  {
   "cell_type": "code",
   "execution_count": 142,
   "metadata": {},
   "outputs": [],
   "source": [
    "submission2 = submission.copy()"
   ]
  },
  {
   "cell_type": "code",
   "execution_count": 143,
   "metadata": {},
   "outputs": [
    {
     "data": {
      "text/html": [
       "<div>\n",
       "<style scoped>\n",
       "    .dataframe tbody tr th:only-of-type {\n",
       "        vertical-align: middle;\n",
       "    }\n",
       "\n",
       "    .dataframe tbody tr th {\n",
       "        vertical-align: top;\n",
       "    }\n",
       "\n",
       "    .dataframe thead th {\n",
       "        text-align: right;\n",
       "    }\n",
       "</style>\n",
       "<table border=\"1\" class=\"dataframe\">\n",
       "  <thead>\n",
       "    <tr style=\"text-align: right;\">\n",
       "      <th></th>\n",
       "      <th>PassengerId</th>\n",
       "      <th>Survived</th>\n",
       "    </tr>\n",
       "  </thead>\n",
       "  <tbody>\n",
       "    <tr>\n",
       "      <th>36</th>\n",
       "      <td>928</td>\n",
       "      <td>1</td>\n",
       "    </tr>\n",
       "    <tr>\n",
       "      <th>199</th>\n",
       "      <td>1091</td>\n",
       "      <td>1</td>\n",
       "    </tr>\n",
       "    <tr>\n",
       "      <th>268</th>\n",
       "      <td>1160</td>\n",
       "      <td>1</td>\n",
       "    </tr>\n",
       "  </tbody>\n",
       "</table>\n",
       "</div>"
      ],
      "text/plain": [
       "     PassengerId  Survived\n",
       "36           928         1\n",
       "199         1091         1\n",
       "268         1160         1"
      ]
     },
     "execution_count": 143,
     "metadata": {},
     "output_type": "execute_result"
    }
   ],
   "source": [
    "submission2.loc[submission2['PassengerId'].isin(fatal_ids)]"
   ]
  },
  {
   "cell_type": "code",
   "execution_count": 144,
   "metadata": {},
   "outputs": [],
   "source": [
    "submission2.loc[submission2['PassengerId'].isin(fatal_ids),'Survived'] = 0"
   ]
  },
  {
   "cell_type": "code",
   "execution_count": 145,
   "metadata": {},
   "outputs": [],
   "source": [
    "#submission2.to_csv('2020-03-28_Ensemble.csv', index=False)"
   ]
  },
  {
   "cell_type": "markdown",
   "metadata": {},
   "source": [
    "Our prediction score is now = 0.84210 and this is as far as we we will go for this report.  We did also complete an exercise in MS Excel were we cross-referenced several predictions (including those published by other competitors), and were able to get our score up to 85.65%.  However, this was more an exercise in spreadsheet manipulation than machine learning, so we consider it outside the scope of this project.    "
   ]
  },
  {
   "cell_type": "markdown",
   "metadata": {},
   "source": [
    "<img src=\"./Kaggle_Score.png\">"
   ]
  },
  {
   "cell_type": "markdown",
   "metadata": {},
   "source": [
    "After completing almost 50 submissions, it is also clear that Kaggle does not score the submissions using all of the data points.  This is determination based on the fact that submissions with 10-20 different predictions would all recieve the same score.  The score appears to be based on a select group within the test data.  If you are fortunate to predict the survival of these select individuals correctly, your score will go up.  "
   ]
  },
  {
   "cell_type": "markdown",
   "metadata": {},
   "source": [
    "# Conclusions\n",
    "At the end of our journey, while we were able to obtain a top 200 score (out of 17,000+ teams) the actual use of machine learning itself to get there was limited.  In fact, we could have likely achieved a score over 0.80 using purely feature engineering and basic statistics.  As noted earlier, we are confident that the key to this competition is identifying the Women and Children Groups.  Knowing that there are likely more groups such as the Wilkes-Richards-Hocking family in the dataset, further review of the data is likely to yield even more accurate WCGs than what we did here.  From there, if we had more time, we would experiment with various ensembles for revising our predictions for both surviving adult males and single women who perished.   Possibly using an ensemble of XGBoost, KNN and DTC as these seemed to perform best.  This makes sense because most of the provide features are either categorical or of discrete numerical values.  "
   ]
  },
  {
   "cell_type": "markdown",
   "metadata": {},
   "source": [
    "# References\n",
    "* [1]\tD. Fowler, “The History in Numbers”, titanicfacts.net. [Online]. Available: https://titanicfacts.net/. [Accessed: 30 March 2020].\n",
    "* [2]\tC. Deotte, “Titanic WCG+XGBoost[0.84688]”. Kaggle.com. [Online]. Available: https://www.kaggle.com/cdeotte/titanic-wcg-xgboost-0-84688. [Accessed: 30 March 2020].\n",
    "* [3]\tY. Ghouzam, “Titanic Top 4% with ensemble modeling”. Kaggle.com. [Online]. Available: https://www.kaggle.com/yassineghouzam/titanic-top-4-with-ensemble-modeling. * [Accessed: 30 March 2020].\n",
    "* [4]\tScikit-learn. “Receiver Operator Characteristic (ROC)”. Scikit-learn.org. [Online]. Available: https://scikit-learn.org/stable/auto_examples/model_selection/plot_roc.html. [Accessed: 30 March 2020]. \n",
    "* [5]\tD. Fowler. “Titanic Survivors”. Titanicfacts.net. [Online]. Available: https://titanicfacts.net/titanic-survivors/. [Accessed: 30 March 2020].\n",
    "* [6]\tD. Fowler. “Titanic Lifeboats”. Titanicfacts.net. [Online]. Available: https://titanicfacts.net/titanic-survivors/. [Accessed: 30 March 2020].\n",
    "* [7]\tC. Deotte. “Titanic Mega Model – [0.84210]”, Kaggle.com. Sec. B.4. [Online]. Available: https://www.kaggle.com/cdeotte/titantic-mega-model-0-84210#B4.-All-Adult-Males-Die. [Accessed: 30 March 2020].\n",
    "* [8]\tC. Deotte. “Titanic Mega Model – [0.84210]”, Kaggle.com. Sec. B.6. [Online]. Available: https://www.kaggle.com/cdeotte/titantic-mega-model-0-84210#B6.-Meet-the-surviving-Wilkes,-Hocking,-Richards-family. [Accessed: 30 March 2020].\n",
    "* [9]\tD. Fowler, “Titanic Survivor List”, titanicfacts.net. [Online]. Available: https://titanicfacts.net/titanic-survivors-list/. [Accessed: 30 March 2020].\n"
   ]
  }
 ],
 "metadata": {
  "kernelspec": {
   "display_name": "Python 3",
   "language": "python",
   "name": "python3"
  },
  "language_info": {
   "codemirror_mode": {
    "name": "ipython",
    "version": 3
   },
   "file_extension": ".py",
   "mimetype": "text/x-python",
   "name": "python",
   "nbconvert_exporter": "python",
   "pygments_lexer": "ipython3",
   "version": "3.7.10"
  },
  "toc-autonumbering": false,
  "toc-showcode": false,
  "toc-showmarkdowntxt": false,
  "toc-showtags": false
 },
 "nbformat": 4,
 "nbformat_minor": 4
}
